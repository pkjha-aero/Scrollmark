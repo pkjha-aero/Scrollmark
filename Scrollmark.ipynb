{
 "cells": [
  {
   "cell_type": "markdown",
   "id": "e22a38d8-43e8-4e6b-acbf-ffa8999f6065",
   "metadata": {},
   "source": [
    "# Import Modules"
   ]
  },
  {
   "cell_type": "code",
   "execution_count": 1,
   "id": "6e60ca04-b2fa-4b25-8867-c61752413053",
   "metadata": {},
   "outputs": [],
   "source": [
    "import os\n",
    "import pandas as pd\n",
    "import matplotlib.pyplot as plt\n",
    "import openpyxl\n",
    "import datetime"
   ]
  },
  {
   "cell_type": "code",
   "execution_count": 2,
   "id": "37b7f91f-93b7-4801-bcae-0e14e9f6d3fd",
   "metadata": {},
   "outputs": [],
   "source": [
    "OPENAI_API_KEY = \"\"\n",
    "os.environ[\"OPENAI_API_KEY\"] = OPENAI_API_KEY"
   ]
  },
  {
   "cell_type": "code",
   "execution_count": 3,
   "id": "31427600-dad5-4497-9c2a-85ace783f6e8",
   "metadata": {},
   "outputs": [],
   "source": [
    "from langchain.chat_models import ChatOpenAI\n",
    "from langchain.prompts import PromptTemplate\n",
    "from langchain.schema import HumanMessage"
   ]
  },
  {
   "cell_type": "markdown",
   "id": "277b6d3d-f24a-476e-82fa-a82466c68fbb",
   "metadata": {},
   "source": [
    "# User-Defined Functions"
   ]
  },
  {
   "cell_type": "code",
   "execution_count": 4,
   "id": "c03d5810-4f0d-4374-98d4-e4634f42c6c9",
   "metadata": {},
   "outputs": [],
   "source": [
    "# Read Raw data downloded in excel format\n",
    "def read_raw_data (excel_file_name: str) -> pd.DataFrame:\n",
    "    try:\n",
    "        df = pd.read_excel(\n",
    "            excel_file,\n",
    "            parse_dates=[0],           # Parse first column as datetime\n",
    "            dtype={1: 'Int64'},        # Safely handle large integers\n",
    "            engine='openpyxl',         # Use openpyxl for .xlsx files    \n",
    "        )\n",
    "        #print(df.head(5))\n",
    "    \n",
    "    except Exception as e:\n",
    "        print(\"Error reading Excel file:\", e)\n",
    "\n",
    "    return df"
   ]
  },
  {
   "cell_type": "code",
   "execution_count": 5,
   "id": "74562bc4-5394-41cd-a22c-17b36a5adf07",
   "metadata": {},
   "outputs": [],
   "source": [
    "# Function to get sentiment using LangChain\n",
    "def get_sentiment_with_langchain (text: str) -> str:\n",
    "    prompt = prompt_template.format(text=text)\n",
    "    try:\n",
    "        response = llm([HumanMessage(content=prompt)])\n",
    "        return response.content.strip()\n",
    "    except Exception as e:\n",
    "        print(\"Error processing:\", text, \"\\n\", e)\n",
    "        return \"Error\""
   ]
  },
  {
   "cell_type": "code",
   "execution_count": 6,
   "id": "8de613d9-21ff-401d-b91c-e3705dc1f180",
   "metadata": {},
   "outputs": [],
   "source": [
    "def compute_sentiments (df: pd.DataFrame, text_sentiment_map: dict) -> pd.DataFrame:\n",
    "    for text_key in text_sentiment_map.keys():\n",
    "        print(text_key, text_sentiment_map[text_key])\n",
    "        df[text_sentiment_map[text_key]] = df[text_key].apply(get_sentiment_with_langchain)\n",
    "\n",
    "    return df"
   ]
  },
  {
   "cell_type": "code",
   "execution_count": 7,
   "id": "a9fa24ec-2276-408f-99cf-ec1fde99a8f4",
   "metadata": {},
   "outputs": [],
   "source": [
    "def visualize_sentiments (df: pd.DataFrame, text_sentiment_map: dict) -> None:\n",
    "    num_text_types = len(text_sentiment_map.keys())\n",
    "    fig, axes = plt.subplots(1, num_text_types, figsize=(12, 6))\n",
    "    for sent_type_count, text_key in enumerate(text_sentiment_map.keys()):\n",
    "        #print(text_key, text_sentiment_map[text_key])\n",
    "        counts_sent = df[text_sentiment_map[text_key]].value_counts()\n",
    "        axes[sent_type_count].pie(counts_sent, labels=counts_sent.index, autopct=\"%1.1f%%\", startangle=90)\n",
    "        axes[sent_type_count].set_title(text_key)\n",
    "    \n",
    "    plt.suptitle(\"Sentiment Distributions Across Text Columns\", fontsize=16, fontweight='bold')\n",
    "    plt.tight_layout()\n",
    "    plt.show()"
   ]
  },
  {
   "cell_type": "markdown",
   "id": "d6706de5-9b52-45b9-8f19-036d3a9111cf",
   "metadata": {},
   "source": [
    "# Read the Raw Data"
   ]
  },
  {
   "cell_type": "code",
   "execution_count": 8,
   "id": "e8da6b71-c62f-49ac-973b-ff00e58cd9c2",
   "metadata": {},
   "outputs": [
    {
     "data": {
      "text/html": [
       "<div>\n",
       "<style scoped>\n",
       "    .dataframe tbody tr th:only-of-type {\n",
       "        vertical-align: middle;\n",
       "    }\n",
       "\n",
       "    .dataframe tbody tr th {\n",
       "        vertical-align: top;\n",
       "    }\n",
       "\n",
       "    .dataframe thead th {\n",
       "        text-align: right;\n",
       "    }\n",
       "</style>\n",
       "<table border=\"1\" class=\"dataframe\">\n",
       "  <thead>\n",
       "    <tr style=\"text-align: right;\">\n",
       "      <th></th>\n",
       "      <th>timestamp</th>\n",
       "      <th>media_id</th>\n",
       "      <th>media_caption</th>\n",
       "      <th>comment_text</th>\n",
       "    </tr>\n",
       "  </thead>\n",
       "  <tbody>\n",
       "    <tr>\n",
       "      <th>0</th>\n",
       "      <td>2025-03-01 00:13:57.153000+00:00</td>\n",
       "      <td>1090986906404998</td>\n",
       "      <td>Soft skin, soft life 🩷🌸🫧 get your hands on thi...</td>\n",
       "      <td>I bet this is good</td>\n",
       "    </tr>\n",
       "    <tr>\n",
       "      <th>1</th>\n",
       "      <td>2025-03-01 00:23:06.879000+00:00</td>\n",
       "      <td>17950254656929862</td>\n",
       "      <td>Why use one scrub when you can use them all at...</td>\n",
       "      <td>i know this smells so good</td>\n",
       "    </tr>\n",
       "    <tr>\n",
       "      <th>2</th>\n",
       "      <td>2025-03-01 00:04:05.094000+00:00</td>\n",
       "      <td>1090109319826090</td>\n",
       "      <td>Morning routine with Tree Hut 🍊🫧 Now available...</td>\n",
       "      <td>Love it</td>\n",
       "    </tr>\n",
       "    <tr>\n",
       "      <th>3</th>\n",
       "      <td>2025-03-01 00:41:59.467000+00:00</td>\n",
       "      <td>1098364052333950</td>\n",
       "      <td>Why use one scrub when you can use them all at...</td>\n",
       "      <td>Please carry these in Canada! I miss them so m...</td>\n",
       "    </tr>\n",
       "    <tr>\n",
       "      <th>4</th>\n",
       "      <td>2025-03-01 02:21:29.715000+00:00</td>\n",
       "      <td>1083943630442659</td>\n",
       "      <td>Vanilla Serum-Infused Hand Wash: A sweet escap...</td>\n",
       "      <td>I love it ..✌️</td>\n",
       "    </tr>\n",
       "  </tbody>\n",
       "</table>\n",
       "</div>"
      ],
      "text/plain": [
       "                          timestamp           media_id  \\\n",
       "0  2025-03-01 00:13:57.153000+00:00   1090986906404998   \n",
       "1  2025-03-01 00:23:06.879000+00:00  17950254656929862   \n",
       "2  2025-03-01 00:04:05.094000+00:00   1090109319826090   \n",
       "3  2025-03-01 00:41:59.467000+00:00   1098364052333950   \n",
       "4  2025-03-01 02:21:29.715000+00:00   1083943630442659   \n",
       "\n",
       "                                       media_caption  \\\n",
       "0  Soft skin, soft life 🩷🌸🫧 get your hands on thi...   \n",
       "1  Why use one scrub when you can use them all at...   \n",
       "2  Morning routine with Tree Hut 🍊🫧 Now available...   \n",
       "3  Why use one scrub when you can use them all at...   \n",
       "4  Vanilla Serum-Infused Hand Wash: A sweet escap...   \n",
       "\n",
       "                                        comment_text  \n",
       "0                                 I bet this is good  \n",
       "1                         i know this smells so good  \n",
       "2                                            Love it  \n",
       "3  Please carry these in Canada! I miss them so m...  \n",
       "4                                     I love it ..✌️  "
      ]
     },
     "execution_count": 8,
     "metadata": {},
     "output_type": "execute_result"
    }
   ],
   "source": [
    "excel_file = 'engagements.xlsx'\n",
    "df = read_raw_data(excel_file)\n",
    "df.head(5)"
   ]
  },
  {
   "cell_type": "markdown",
   "id": "6255af09-5aa5-477a-815c-5a6720cefb96",
   "metadata": {},
   "source": [
    "# Proceed with a subset for Testing"
   ]
  },
  {
   "cell_type": "code",
   "execution_count": 9,
   "id": "82dd9f22-f73e-487b-9dc1-3036d695346a",
   "metadata": {},
   "outputs": [],
   "source": [
    "##\n",
    "df = df[0:50]"
   ]
  },
  {
   "cell_type": "markdown",
   "id": "cefcb856-e436-4d2a-914b-ea96c6f39287",
   "metadata": {},
   "source": [
    "# Define LLM"
   ]
  },
  {
   "cell_type": "code",
   "execution_count": 10,
   "id": "d83bad12-6f20-4346-8151-e96716f2ac2e",
   "metadata": {},
   "outputs": [
    {
     "name": "stderr",
     "output_type": "stream",
     "text": [
      "/tmp/ipykernel_1330479/2335869711.py:1: LangChainDeprecationWarning: The class `ChatOpenAI` was deprecated in LangChain 0.0.10 and will be removed in 1.0. An updated version of the class exists in the :class:`~langchain-openai package and should be used instead. To use it run `pip install -U :class:`~langchain-openai` and import as `from :class:`~langchain_openai import ChatOpenAI``.\n",
      "  llm = ChatOpenAI(model=\"gpt-3.5-turbo\", temperature=0.0)\n"
     ]
    }
   ],
   "source": [
    "llm = ChatOpenAI(model=\"gpt-3.5-turbo\", temperature=0.0)"
   ]
  },
  {
   "cell_type": "markdown",
   "id": "6dfbc4ac-df82-4338-85b7-42cb56d37835",
   "metadata": {},
   "source": [
    "# Analyze Sentiments"
   ]
  },
  {
   "cell_type": "markdown",
   "id": "7a58ecdc-3f2c-4bf3-a419-91493e2885a8",
   "metadata": {},
   "source": [
    "### Define a prompt template"
   ]
  },
  {
   "cell_type": "code",
   "execution_count": 11,
   "id": "4f7ac689-9e35-4cad-bdfa-b9b68ba8543d",
   "metadata": {},
   "outputs": [],
   "source": [
    "prompt_template = PromptTemplate.from_template(\n",
    "    \"Classify the sentiment of the following text as Positive, Negative, or Neutral:\\n\\n{text}\\n\\nSentiment:\"\n",
    ")"
   ]
  },
  {
   "cell_type": "markdown",
   "id": "7564e99b-e8d5-42e3-a621-3f276b81e218",
   "metadata": {},
   "source": [
    "### Define a map between column names with text and the corresponding sentiment"
   ]
  },
  {
   "cell_type": "code",
   "execution_count": 12,
   "id": "e58ad7bd-92e6-4d37-a0e3-c5f9756c1bcc",
   "metadata": {},
   "outputs": [],
   "source": [
    "text_sentiment_map = {\n",
    "    'media_caption': 'sentiment_media_caption',\n",
    "    'comment_text': 'sentiment_comment_text',\n",
    "    #'comment_text2': 'sentiment_comment_text2'\n",
    "}"
   ]
  },
  {
   "cell_type": "code",
   "execution_count": 13,
   "id": "05535bd9-f1ae-4ee7-baa8-d899ab66b3ee",
   "metadata": {},
   "outputs": [
    {
     "data": {
      "text/plain": [
       "{'media_caption': 'sentiment_media_caption',\n",
       " 'comment_text': 'sentiment_comment_text'}"
      ]
     },
     "execution_count": 13,
     "metadata": {},
     "output_type": "execute_result"
    }
   ],
   "source": [
    "text_sentiment_map"
   ]
  },
  {
   "cell_type": "markdown",
   "id": "1f5f877c-f2c4-4fe7-95f8-69813c8883b0",
   "metadata": {},
   "source": [
    "### Compute Sentiments"
   ]
  },
  {
   "cell_type": "code",
   "execution_count": 14,
   "id": "7261fda0-884b-42d6-8392-3fbfddea4d74",
   "metadata": {},
   "outputs": [
    {
     "name": "stdout",
     "output_type": "stream",
     "text": [
      "media_caption sentiment_media_caption\n"
     ]
    },
    {
     "name": "stderr",
     "output_type": "stream",
     "text": [
      "/tmp/ipykernel_1330479/4098399969.py:5: LangChainDeprecationWarning: The method `BaseChatModel.__call__` was deprecated in langchain-core 0.1.7 and will be removed in 1.0. Use :meth:`~invoke` instead.\n",
      "  response = llm([HumanMessage(content=prompt)])\n"
     ]
    },
    {
     "name": "stdout",
     "output_type": "stream",
     "text": [
      "comment_text sentiment_comment_text\n"
     ]
    }
   ],
   "source": [
    "df = compute_sentiments (df, text_sentiment_map)"
   ]
  },
  {
   "cell_type": "code",
   "execution_count": 15,
   "id": "2eee02a7-f8e2-422e-b560-2344bb276343",
   "metadata": {},
   "outputs": [],
   "source": [
    "#df"
   ]
  },
  {
   "cell_type": "markdown",
   "id": "e2c85c55-8c10-4d79-8b45-84a279cad943",
   "metadata": {},
   "source": [
    "### Visualize Sentiments"
   ]
  },
  {
   "cell_type": "code",
   "execution_count": 16,
   "id": "b95ae28e-91ed-42d6-ab4d-e79dd6c56740",
   "metadata": {},
   "outputs": [
    {
     "data": {
      "image/png": "[encoded data removed]",
      "text/plain": [
       "<Figure size 1200x600 with 2 Axes>"
      ]
     },
     "metadata": {},
     "output_type": "display_data"
    }
   ],
   "source": [
    "visualize_sentiments (df, text_sentiment_map)"
   ]
  },
  {
   "cell_type": "code",
   "execution_count": null,
   "id": "0edd0200-2490-4621-b536-638914438a0c",
   "metadata": {},
   "outputs": [],
   "source": []
  }
 ],
 "metadata": {
  "kernelspec": {
   "display_name": "Python [conda env:py3_ml] *",
   "language": "python",
   "name": "conda-env-py3_ml-py"
  },
  "language_info": {
   "codemirror_mode": {
    "name": "ipython",
    "version": 3
   },
   "file_extension": ".py",
   "mimetype": "text/x-python",
   "name": "python",
   "nbconvert_exporter": "python",
   "pygments_lexer": "ipython3",
   "version": "3.12.9"
  }
 },
 "nbformat": 4,
 "nbformat_minor": 5
}
