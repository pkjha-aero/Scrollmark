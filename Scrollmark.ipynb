{
 "cells": [
  {
   "cell_type": "markdown",
   "id": "e22a38d8-43e8-4e6b-acbf-ffa8999f6065",
   "metadata": {},
   "source": [
    "# Import Modules"
   ]
  },
  {
   "cell_type": "code",
   "execution_count": 1,
   "id": "6e60ca04-b2fa-4b25-8867-c61752413053",
   "metadata": {},
   "outputs": [],
   "source": [
    "import os\n",
    "import pandas as pd\n",
    "import matplotlib.pyplot as plt\n",
    "import openpyxl\n",
    "import datetime"
   ]
  },
  {
   "cell_type": "code",
   "execution_count": 2,
   "id": "37b7f91f-93b7-4801-bcae-0e14e9f6d3fd",
   "metadata": {},
   "outputs": [],
   "source": [
    "OPENAI_API_KEY = \"\"\n",
    "os.environ[\"OPENAI_API_KEY\"] = OPENAI_API_KEY"
   ]
  },
  {
   "cell_type": "code",
   "execution_count": 3,
   "id": "31427600-dad5-4497-9c2a-85ace783f6e8",
   "metadata": {},
   "outputs": [],
   "source": [
    "from langchain.chat_models import ChatOpenAI\n",
    "from langchain.prompts import PromptTemplate\n",
    "from langchain.schema import HumanMessage"
   ]
  },
  {
   "cell_type": "markdown",
   "id": "277b6d3d-f24a-476e-82fa-a82466c68fbb",
   "metadata": {},
   "source": [
    "# User-Defined Functions"
   ]
  },
  {
   "cell_type": "code",
   "execution_count": 4,
   "id": "c03d5810-4f0d-4374-98d4-e4634f42c6c9",
   "metadata": {},
   "outputs": [],
   "source": [
    "# Read Raw data downloded in excel format\n",
    "def read_raw_data (excel_file_name: str) -> pd.DataFrame:\n",
    "    try:\n",
    "        df = pd.read_excel(\n",
    "            excel_file,\n",
    "            parse_dates=[0],           # Parse first column as datetime\n",
    "            dtype={1: 'Int64'},        # Safely handle large integers\n",
    "            engine='openpyxl',         # Use openpyxl for .xlsx files    \n",
    "        )\n",
    "        #print(df.head(5))\n",
    "    \n",
    "    except Exception as e:\n",
    "        print(\"Error reading Excel file:\", e)\n",
    "\n",
    "    return df"
   ]
  },
  {
   "cell_type": "code",
   "execution_count": 5,
   "id": "74562bc4-5394-41cd-a22c-17b36a5adf07",
   "metadata": {},
   "outputs": [],
   "source": [
    "# Function to get sentiment using LangChain\n",
    "def get_sentiment_with_langchain (text: str) -> str:\n",
    "    prompt = prompt_template.format(text=text)\n",
    "    try:\n",
    "        response = llm([HumanMessage(content=prompt)])\n",
    "        return response.content.strip()\n",
    "    except Exception as e:\n",
    "        print(\"Error processing:\", text, \"\\n\", e)\n",
    "        return \"Error\""
   ]
  },
  {
   "cell_type": "code",
   "execution_count": 6,
   "id": "8de613d9-21ff-401d-b91c-e3705dc1f180",
   "metadata": {},
   "outputs": [],
   "source": [
    "def compute_sentiments (df: pd.DataFrame, text_sentiment_map: dict) -> pd.DataFrame:\n",
    "    for text_key in text_sentiment_map.keys():\n",
    "        print(text_key, text_sentiment_map[text_key])\n",
    "        df[text_sentiment_map[text_key]] = df[text_key].apply(get_sentiment_with_langchain)\n",
    "\n",
    "    return df"
   ]
  },
  {
   "cell_type": "code",
   "execution_count": 7,
   "id": "a9fa24ec-2276-408f-99cf-ec1fde99a8f4",
   "metadata": {},
   "outputs": [],
   "source": [
    "def visualize_sentiments (df: pd.DataFrame, text_sentiment_map: dict) -> None:\n",
    "    num_text_types = len(text_sentiment_map.keys())\n",
    "    fig, axes = plt.subplots(1, num_text_types, figsize=(12, 6))\n",
    "    for sent_type_count, text_key in enumerate(text_sentiment_map.keys()):\n",
    "        #print(text_key, text_sentiment_map[text_key])\n",
    "        counts_sent = df[text_sentiment_map[text_key]].value_counts()\n",
    "        axes[sent_type_count].pie(counts_sent, labels=counts_sent.index, autopct=\"%1.1f%%\", startangle=90)\n",
    "        axes[sent_type_count].set_title(text_key)\n",
    "    \n",
    "    plt.suptitle(\"Sentiment Distributions Across Text Columns\", fontsize=16, fontweight='bold')\n",
    "    plt.tight_layout()\n",
    "    plt.show()"
   ]
  },
  {
   "cell_type": "code",
   "execution_count": 8,
   "id": "06477045-f4e1-41b7-a5b5-ff134a00e37b",
   "metadata": {},
   "outputs": [],
   "source": [
    "def reduce_df_to_a_sentiment (df_orig: pd.DataFrame, text_sentiment_map: dict, desired_sentiment: str) -> pd.DataFrame:\n",
    "    df = df_orig.copy()\n",
    "    for text_key in text_sentiment_map.keys():\n",
    "        #print(text_key, text_sentiment_map[text_key])\n",
    "        df = df [df[text_sentiment_map[text_key]] == desired_sentiment]\n",
    "\n",
    "    return df\n",
    "    "
   ]
  },
  {
   "cell_type": "code",
   "execution_count": 9,
   "id": "e743c837-40a3-4e81-b186-e2a7b25b4c80",
   "metadata": {},
   "outputs": [],
   "source": [
    "# Function to extract keywords and counts using OpenAI\n",
    "def extract_keywords_with_counts(llm, prompt_template, text: str):\n",
    "    prompt = prompt_template.format(text=text[:4000])  # truncate if needed\n",
    "    response = llm([HumanMessage(content=prompt)])\n",
    "    \n",
    "    # Parse response into dict\n",
    "    result = {}\n",
    "    for line in response.content.strip().split(\"\\n\"):\n",
    "        if \":\" in line:\n",
    "            try:\n",
    "                key, val = line.split(\":\")\n",
    "                result[key.strip()] = int(val.strip())\n",
    "            except ValueError:\n",
    "                continue\n",
    "    return result"
   ]
  },
  {
   "cell_type": "code",
   "execution_count": 10,
   "id": "b869aa06-21f1-43b2-ac07-892dfa1652e4",
   "metadata": {},
   "outputs": [],
   "source": [
    "def extract_frequent_words_for_sentiment (df_orig, text_sentiment_map, desired_sentiment, llm, prompt_template):\n",
    "    # Reduce the data frame so that each text column has the same sentiment type\n",
    "    df = reduce_df_to_a_sentiment (df_orig, text_sentiment_map, desired_sentiment)\n",
    "\n",
    "    for sent_type_count, text_key in enumerate(text_sentiment_map.keys()):\n",
    "        #print(text_key, text_sentiment_map[text_key])\n",
    "        col = text_key\n",
    "        text = \" \".join(df[col].dropna().astype(str).tolist())\n",
    "        result = extract_keywords_with_counts(llm, prompt_template, text)\n",
    "    \n",
    "        print(f\"\\nTop 10 keywords from column '{col}' that represent '{desired_sentiment}' sentiments:\")\n",
    "        for k, v in result.items():\n",
    "            print(f\"{k}: {v}\")"
   ]
  },
  {
   "cell_type": "markdown",
   "id": "d6706de5-9b52-45b9-8f19-036d3a9111cf",
   "metadata": {},
   "source": [
    "# Read the Raw Data"
   ]
  },
  {
   "cell_type": "code",
   "execution_count": 11,
   "id": "e8da6b71-c62f-49ac-973b-ff00e58cd9c2",
   "metadata": {},
   "outputs": [
    {
     "data": {
      "text/html": [
       "<div>\n",
       "<style scoped>\n",
       "    .dataframe tbody tr th:only-of-type {\n",
       "        vertical-align: middle;\n",
       "    }\n",
       "\n",
       "    .dataframe tbody tr th {\n",
       "        vertical-align: top;\n",
       "    }\n",
       "\n",
       "    .dataframe thead th {\n",
       "        text-align: right;\n",
       "    }\n",
       "</style>\n",
       "<table border=\"1\" class=\"dataframe\">\n",
       "  <thead>\n",
       "    <tr style=\"text-align: right;\">\n",
       "      <th></th>\n",
       "      <th>timestamp</th>\n",
       "      <th>media_id</th>\n",
       "      <th>media_caption</th>\n",
       "      <th>comment_text</th>\n",
       "    </tr>\n",
       "  </thead>\n",
       "  <tbody>\n",
       "    <tr>\n",
       "      <th>0</th>\n",
       "      <td>2025-03-01 00:13:57.153000+00:00</td>\n",
       "      <td>1090986906404998</td>\n",
       "      <td>Soft skin, soft life 🩷🌸🫧 get your hands on thi...</td>\n",
       "      <td>I bet this is good</td>\n",
       "    </tr>\n",
       "    <tr>\n",
       "      <th>1</th>\n",
       "      <td>2025-03-01 00:23:06.879000+00:00</td>\n",
       "      <td>17950254656929862</td>\n",
       "      <td>Why use one scrub when you can use them all at...</td>\n",
       "      <td>i know this smells so good</td>\n",
       "    </tr>\n",
       "    <tr>\n",
       "      <th>2</th>\n",
       "      <td>2025-03-01 00:04:05.094000+00:00</td>\n",
       "      <td>1090109319826090</td>\n",
       "      <td>Morning routine with Tree Hut 🍊🫧 Now available...</td>\n",
       "      <td>Love it</td>\n",
       "    </tr>\n",
       "    <tr>\n",
       "      <th>3</th>\n",
       "      <td>2025-03-01 00:41:59.467000+00:00</td>\n",
       "      <td>1098364052333950</td>\n",
       "      <td>Why use one scrub when you can use them all at...</td>\n",
       "      <td>Please carry these in Canada! I miss them so m...</td>\n",
       "    </tr>\n",
       "    <tr>\n",
       "      <th>4</th>\n",
       "      <td>2025-03-01 02:21:29.715000+00:00</td>\n",
       "      <td>1083943630442659</td>\n",
       "      <td>Vanilla Serum-Infused Hand Wash: A sweet escap...</td>\n",
       "      <td>I love it ..✌️</td>\n",
       "    </tr>\n",
       "  </tbody>\n",
       "</table>\n",
       "</div>"
      ],
      "text/plain": [
       "                          timestamp           media_id  \\\n",
       "0  2025-03-01 00:13:57.153000+00:00   1090986906404998   \n",
       "1  2025-03-01 00:23:06.879000+00:00  17950254656929862   \n",
       "2  2025-03-01 00:04:05.094000+00:00   1090109319826090   \n",
       "3  2025-03-01 00:41:59.467000+00:00   1098364052333950   \n",
       "4  2025-03-01 02:21:29.715000+00:00   1083943630442659   \n",
       "\n",
       "                                       media_caption  \\\n",
       "0  Soft skin, soft life 🩷🌸🫧 get your hands on thi...   \n",
       "1  Why use one scrub when you can use them all at...   \n",
       "2  Morning routine with Tree Hut 🍊🫧 Now available...   \n",
       "3  Why use one scrub when you can use them all at...   \n",
       "4  Vanilla Serum-Infused Hand Wash: A sweet escap...   \n",
       "\n",
       "                                        comment_text  \n",
       "0                                 I bet this is good  \n",
       "1                         i know this smells so good  \n",
       "2                                            Love it  \n",
       "3  Please carry these in Canada! I miss them so m...  \n",
       "4                                     I love it ..✌️  "
      ]
     },
     "execution_count": 11,
     "metadata": {},
     "output_type": "execute_result"
    }
   ],
   "source": [
    "excel_file = 'engagements.xlsx'\n",
    "df = read_raw_data(excel_file)\n",
    "df.head(5)"
   ]
  },
  {
   "cell_type": "markdown",
   "id": "6255af09-5aa5-477a-815c-5a6720cefb96",
   "metadata": {},
   "source": [
    "# Proceed with a subset for Testing"
   ]
  },
  {
   "cell_type": "code",
   "execution_count": 12,
   "id": "82dd9f22-f73e-487b-9dc1-3036d695346a",
   "metadata": {},
   "outputs": [],
   "source": [
    "##\n",
    "df = df[0:100]"
   ]
  },
  {
   "cell_type": "markdown",
   "id": "cefcb856-e436-4d2a-914b-ea96c6f39287",
   "metadata": {},
   "source": [
    "# Define LLM"
   ]
  },
  {
   "cell_type": "code",
   "execution_count": 13,
   "id": "d83bad12-6f20-4346-8151-e96716f2ac2e",
   "metadata": {},
   "outputs": [
    {
     "name": "stderr",
     "output_type": "stream",
     "text": [
      "/tmp/ipykernel_1336609/2335869711.py:1: LangChainDeprecationWarning: The class `ChatOpenAI` was deprecated in LangChain 0.0.10 and will be removed in 1.0. An updated version of the class exists in the :class:`~langchain-openai package and should be used instead. To use it run `pip install -U :class:`~langchain-openai` and import as `from :class:`~langchain_openai import ChatOpenAI``.\n",
      "  llm = ChatOpenAI(model=\"gpt-3.5-turbo\", temperature=0.0)\n"
     ]
    }
   ],
   "source": [
    "llm = ChatOpenAI(model=\"gpt-3.5-turbo\", temperature=0.0)"
   ]
  },
  {
   "cell_type": "markdown",
   "id": "6dfbc4ac-df82-4338-85b7-42cb56d37835",
   "metadata": {},
   "source": [
    "# Analyze Sentiments"
   ]
  },
  {
   "cell_type": "markdown",
   "id": "7a58ecdc-3f2c-4bf3-a419-91493e2885a8",
   "metadata": {},
   "source": [
    "### Define a prompt template"
   ]
  },
  {
   "cell_type": "code",
   "execution_count": 14,
   "id": "4f7ac689-9e35-4cad-bdfa-b9b68ba8543d",
   "metadata": {},
   "outputs": [],
   "source": [
    "prompt_template = PromptTemplate.from_template(\n",
    "    \"Classify the sentiment of the following text as Positive, Negative, or Neutral:\\n\\n{text}\\n\\nSentiment:\"\n",
    ")"
   ]
  },
  {
   "cell_type": "markdown",
   "id": "7564e99b-e8d5-42e3-a621-3f276b81e218",
   "metadata": {},
   "source": [
    "### Define a map between column names with text and the corresponding sentiment"
   ]
  },
  {
   "cell_type": "code",
   "execution_count": 15,
   "id": "e58ad7bd-92e6-4d37-a0e3-c5f9756c1bcc",
   "metadata": {},
   "outputs": [],
   "source": [
    "text_sentiment_map = {\n",
    "    'media_caption': 'sentiment_media_caption',\n",
    "    'comment_text': 'sentiment_comment_text',\n",
    "    #'comment_text2': 'sentiment_comment_text2'\n",
    "}"
   ]
  },
  {
   "cell_type": "code",
   "execution_count": 16,
   "id": "05535bd9-f1ae-4ee7-baa8-d899ab66b3ee",
   "metadata": {},
   "outputs": [
    {
     "data": {
      "text/plain": [
       "{'media_caption': 'sentiment_media_caption',\n",
       " 'comment_text': 'sentiment_comment_text'}"
      ]
     },
     "execution_count": 16,
     "metadata": {},
     "output_type": "execute_result"
    }
   ],
   "source": [
    "text_sentiment_map"
   ]
  },
  {
   "cell_type": "markdown",
   "id": "1f5f877c-f2c4-4fe7-95f8-69813c8883b0",
   "metadata": {},
   "source": [
    "### Compute Sentiments"
   ]
  },
  {
   "cell_type": "code",
   "execution_count": 17,
   "id": "7261fda0-884b-42d6-8392-3fbfddea4d74",
   "metadata": {},
   "outputs": [
    {
     "name": "stdout",
     "output_type": "stream",
     "text": [
      "media_caption sentiment_media_caption\n"
     ]
    },
    {
     "name": "stderr",
     "output_type": "stream",
     "text": [
      "/tmp/ipykernel_1336609/4098399969.py:5: LangChainDeprecationWarning: The method `BaseChatModel.__call__` was deprecated in langchain-core 0.1.7 and will be removed in 1.0. Use :meth:`~invoke` instead.\n",
      "  response = llm([HumanMessage(content=prompt)])\n"
     ]
    },
    {
     "name": "stdout",
     "output_type": "stream",
     "text": [
      "comment_text sentiment_comment_text\n"
     ]
    }
   ],
   "source": [
    "df = compute_sentiments (df, text_sentiment_map)\n",
    "df_orig = df.copy()"
   ]
  },
  {
   "cell_type": "code",
   "execution_count": 18,
   "id": "2eee02a7-f8e2-422e-b560-2344bb276343",
   "metadata": {},
   "outputs": [
    {
     "data": {
      "text/html": [
       "<div>\n",
       "<style scoped>\n",
       "    .dataframe tbody tr th:only-of-type {\n",
       "        vertical-align: middle;\n",
       "    }\n",
       "\n",
       "    .dataframe tbody tr th {\n",
       "        vertical-align: top;\n",
       "    }\n",
       "\n",
       "    .dataframe thead th {\n",
       "        text-align: right;\n",
       "    }\n",
       "</style>\n",
       "<table border=\"1\" class=\"dataframe\">\n",
       "  <thead>\n",
       "    <tr style=\"text-align: right;\">\n",
       "      <th></th>\n",
       "      <th>timestamp</th>\n",
       "      <th>media_id</th>\n",
       "      <th>media_caption</th>\n",
       "      <th>comment_text</th>\n",
       "      <th>sentiment_media_caption</th>\n",
       "      <th>sentiment_comment_text</th>\n",
       "    </tr>\n",
       "  </thead>\n",
       "  <tbody>\n",
       "    <tr>\n",
       "      <th>0</th>\n",
       "      <td>2025-03-01 00:13:57.153000+00:00</td>\n",
       "      <td>1090986906404998</td>\n",
       "      <td>Soft skin, soft life 🩷🌸🫧 get your hands on thi...</td>\n",
       "      <td>I bet this is good</td>\n",
       "      <td>Positive</td>\n",
       "      <td>Positive</td>\n",
       "    </tr>\n",
       "    <tr>\n",
       "      <th>1</th>\n",
       "      <td>2025-03-01 00:23:06.879000+00:00</td>\n",
       "      <td>17950254656929862</td>\n",
       "      <td>Why use one scrub when you can use them all at...</td>\n",
       "      <td>i know this smells so good</td>\n",
       "      <td>Positive</td>\n",
       "      <td>Positive</td>\n",
       "    </tr>\n",
       "    <tr>\n",
       "      <th>2</th>\n",
       "      <td>2025-03-01 00:04:05.094000+00:00</td>\n",
       "      <td>1090109319826090</td>\n",
       "      <td>Morning routine with Tree Hut 🍊🫧 Now available...</td>\n",
       "      <td>Love it</td>\n",
       "      <td>Positive</td>\n",
       "      <td>Positive</td>\n",
       "    </tr>\n",
       "    <tr>\n",
       "      <th>3</th>\n",
       "      <td>2025-03-01 00:41:59.467000+00:00</td>\n",
       "      <td>1098364052333950</td>\n",
       "      <td>Why use one scrub when you can use them all at...</td>\n",
       "      <td>Please carry these in Canada! I miss them so m...</td>\n",
       "      <td>Positive</td>\n",
       "      <td>Positive</td>\n",
       "    </tr>\n",
       "    <tr>\n",
       "      <th>4</th>\n",
       "      <td>2025-03-01 02:21:29.715000+00:00</td>\n",
       "      <td>1083943630442659</td>\n",
       "      <td>Vanilla Serum-Infused Hand Wash: A sweet escap...</td>\n",
       "      <td>I love it ..✌️</td>\n",
       "      <td>Positive</td>\n",
       "      <td>Positive</td>\n",
       "    </tr>\n",
       "    <tr>\n",
       "      <th>...</th>\n",
       "      <td>...</td>\n",
       "      <td>...</td>\n",
       "      <td>...</td>\n",
       "      <td>...</td>\n",
       "      <td>...</td>\n",
       "      <td>...</td>\n",
       "    </tr>\n",
       "    <tr>\n",
       "      <th>95</th>\n",
       "      <td>2025-03-01 23:37:53.524000+00:00</td>\n",
       "      <td>17950254656929862</td>\n",
       "      <td>Why use one scrub when you can use them all at...</td>\n",
       "      <td>So pretty</td>\n",
       "      <td>Positive</td>\n",
       "      <td>Positive</td>\n",
       "    </tr>\n",
       "    <tr>\n",
       "      <th>96</th>\n",
       "      <td>2025-03-01 23:47:56.769000+00:00</td>\n",
       "      <td>1090109099826112</td>\n",
       "      <td>Soft skin, soft life 🩷🌸🫧 get your hands on thi...</td>\n",
       "      <td>Roberta Wimmer Stone Walmart</td>\n",
       "      <td>Positive</td>\n",
       "      <td>Neutral</td>\n",
       "    </tr>\n",
       "    <tr>\n",
       "      <th>97</th>\n",
       "      <td>2025-03-02 00:23:42.929000+00:00</td>\n",
       "      <td>18021315083459733</td>\n",
       "      <td>Orange you glad it’s giveaway time?! 🍊✨\\n\\nTha...</td>\n",
       "      <td>@_alyrrr</td>\n",
       "      <td>Positive</td>\n",
       "      <td>Neutral</td>\n",
       "    </tr>\n",
       "    <tr>\n",
       "      <th>98</th>\n",
       "      <td>2025-03-02 00:42:23.009000+00:00</td>\n",
       "      <td>17895078585072260</td>\n",
       "      <td>Y’all already know I’m a product junkie and a ...</td>\n",
       "      <td>@bathandbodyworks \\n@blackgirlsunscreen \\n@haw...</td>\n",
       "      <td>Positive</td>\n",
       "      <td>Neutral</td>\n",
       "    </tr>\n",
       "    <tr>\n",
       "      <th>99</th>\n",
       "      <td>2025-03-02 01:04:36.295000+00:00</td>\n",
       "      <td>1091929802977375</td>\n",
       "      <td>Morning routine with Tree Hut 🍊🫧 Now available...</td>\n",
       "      <td>Robyn Petty Ty for the input.</td>\n",
       "      <td>Positive</td>\n",
       "      <td>Neutral</td>\n",
       "    </tr>\n",
       "  </tbody>\n",
       "</table>\n",
       "<p>100 rows × 6 columns</p>\n",
       "</div>"
      ],
      "text/plain": [
       "                           timestamp           media_id  \\\n",
       "0   2025-03-01 00:13:57.153000+00:00   1090986906404998   \n",
       "1   2025-03-01 00:23:06.879000+00:00  17950254656929862   \n",
       "2   2025-03-01 00:04:05.094000+00:00   1090109319826090   \n",
       "3   2025-03-01 00:41:59.467000+00:00   1098364052333950   \n",
       "4   2025-03-01 02:21:29.715000+00:00   1083943630442659   \n",
       "..                               ...                ...   \n",
       "95  2025-03-01 23:37:53.524000+00:00  17950254656929862   \n",
       "96  2025-03-01 23:47:56.769000+00:00   1090109099826112   \n",
       "97  2025-03-02 00:23:42.929000+00:00  18021315083459733   \n",
       "98  2025-03-02 00:42:23.009000+00:00  17895078585072260   \n",
       "99  2025-03-02 01:04:36.295000+00:00   1091929802977375   \n",
       "\n",
       "                                        media_caption  \\\n",
       "0   Soft skin, soft life 🩷🌸🫧 get your hands on thi...   \n",
       "1   Why use one scrub when you can use them all at...   \n",
       "2   Morning routine with Tree Hut 🍊🫧 Now available...   \n",
       "3   Why use one scrub when you can use them all at...   \n",
       "4   Vanilla Serum-Infused Hand Wash: A sweet escap...   \n",
       "..                                                ...   \n",
       "95  Why use one scrub when you can use them all at...   \n",
       "96  Soft skin, soft life 🩷🌸🫧 get your hands on thi...   \n",
       "97  Orange you glad it’s giveaway time?! 🍊✨\\n\\nTha...   \n",
       "98  Y’all already know I’m a product junkie and a ...   \n",
       "99  Morning routine with Tree Hut 🍊🫧 Now available...   \n",
       "\n",
       "                                         comment_text sentiment_media_caption  \\\n",
       "0                                  I bet this is good                Positive   \n",
       "1                          i know this smells so good                Positive   \n",
       "2                                             Love it                Positive   \n",
       "3   Please carry these in Canada! I miss them so m...                Positive   \n",
       "4                                      I love it ..✌️                Positive   \n",
       "..                                                ...                     ...   \n",
       "95                                          So pretty                Positive   \n",
       "96                       Roberta Wimmer Stone Walmart                Positive   \n",
       "97                                           @_alyrrr                Positive   \n",
       "98  @bathandbodyworks \\n@blackgirlsunscreen \\n@haw...                Positive   \n",
       "99                      Robyn Petty Ty for the input.                Positive   \n",
       "\n",
       "   sentiment_comment_text  \n",
       "0                Positive  \n",
       "1                Positive  \n",
       "2                Positive  \n",
       "3                Positive  \n",
       "4                Positive  \n",
       "..                    ...  \n",
       "95               Positive  \n",
       "96                Neutral  \n",
       "97                Neutral  \n",
       "98                Neutral  \n",
       "99                Neutral  \n",
       "\n",
       "[100 rows x 6 columns]"
      ]
     },
     "execution_count": 18,
     "metadata": {},
     "output_type": "execute_result"
    }
   ],
   "source": [
    "df"
   ]
  },
  {
   "cell_type": "markdown",
   "id": "e2c85c55-8c10-4d79-8b45-84a279cad943",
   "metadata": {},
   "source": [
    "### Visualize Sentiments"
   ]
  },
  {
   "cell_type": "code",
   "execution_count": 19,
   "id": "b95ae28e-91ed-42d6-ab4d-e79dd6c56740",
   "metadata": {},
   "outputs": [
    {
     "data": {
      "image/png": "[encoded data removed]",
      "text/plain": [
       "<Figure size 1200x600 with 2 Axes>"
      ]
     },
     "metadata": {},
     "output_type": "display_data"
    }
   ],
   "source": [
    "visualize_sentiments (df, text_sentiment_map)"
   ]
  },
  {
   "cell_type": "markdown",
   "id": "fee92862-41c6-4151-aef5-4bb9d8403bc4",
   "metadata": {},
   "source": [
    "# Obtain frequent words for each type of sentiment"
   ]
  },
  {
   "cell_type": "markdown",
   "id": "318e324a-ccad-437d-8a85-e874b847dc15",
   "metadata": {},
   "source": [
    "### Define a prompt template"
   ]
  },
  {
   "cell_type": "code",
   "execution_count": 20,
   "id": "6fa9f725-6d2f-4324-82f7-04563b319f67",
   "metadata": {},
   "outputs": [],
   "source": [
    "prompt_template = PromptTemplate.from_template(\n",
    "    \"\"\"Extract the top 10 most important keywords or phrases from the following text, and show how often each one appears. \n",
    "Return them in the format: keyword: count, one per line. Only include meaningful content words, not stopwords or punctuation.\n",
    "\n",
    "Text:\n",
    "{text}\n",
    "\"\"\"\n",
    ")"
   ]
  },
  {
   "cell_type": "markdown",
   "id": "91ba4f7f-ed50-4efd-9b94-b5d70c97fc7c",
   "metadata": {},
   "source": [
    "### Call function"
   ]
  },
  {
   "cell_type": "code",
   "execution_count": 21,
   "id": "1b5a192f-ee62-418b-b2c2-2bed6e56b376",
   "metadata": {},
   "outputs": [
    {
     "name": "stdout",
     "output_type": "stream",
     "text": [
      "\n",
      "Top 10 keywords from column 'media_caption' that represent 'Positive' sentiments:\n",
      "scrub: 10\n",
      "use: 6\n",
      "treehut: 6\n",
      "hand: 5\n",
      "collection: 5\n",
      "orange: 5\n",
      "self-care: 4\n",
      "tangerine: 4\n",
      "giveaway: 4\n",
      "morning: 3\n",
      "\n",
      "Top 10 keywords from column 'comment_text' that represent 'Positive' sentiments:\n",
      "love: 10\n",
      "scrub: 6\n",
      "smell: 5\n",
      "tree hut: 4\n",
      "citrus: 3\n",
      "coconut lime: 2\n",
      "fragrance: 2\n",
      "scent: 2\n",
      "heavenly: 2\n",
      "favorite: 2\n"
     ]
    }
   ],
   "source": [
    "extract_frequent_words_for_sentiment (df_orig, text_sentiment_map, 'Positive', llm, prompt_template)"
   ]
  },
  {
   "cell_type": "code",
   "execution_count": 22,
   "id": "e6b96a04-8709-4772-9c4f-10b6ae27fbb8",
   "metadata": {},
   "outputs": [
    {
     "name": "stdout",
     "output_type": "stream",
     "text": [
      "\n",
      "Top 10 keywords from column 'media_caption' that represent 'Negative' sentiments:\n",
      "\n",
      "Top 10 keywords from column 'comment_text' that represent 'Negative' sentiments:\n"
     ]
    }
   ],
   "source": [
    "extract_frequent_words_for_sentiment (df_orig, text_sentiment_map, 'Negative', llm, prompt_template)"
   ]
  },
  {
   "cell_type": "code",
   "execution_count": 23,
   "id": "3694f845-df02-4cc4-abab-50e85cb3a115",
   "metadata": {},
   "outputs": [
    {
     "name": "stdout",
     "output_type": "stream",
     "text": [
      "\n",
      "Top 10 keywords from column 'media_caption' that represent 'Neutral' sentiments:\n",
      "time: 2\n",
      "exfoliate: 2\n",
      "WintHER scrub: 1\n",
      "fits: 1\n",
      "vibe: 1\n",
      "\n",
      "Top 10 keywords from column 'comment_text' that represent 'Neutral' sentiments:\n",
      "hello: 2\n",
      "today: 2\n",
      "wonderful: 2\n",
      "doctor: 2\n",
      "bradley shaffer: 2\n",
      "friend: 2\n",
      "name: 2\n",
      "mind: 2\n",
      "emerald tuesdae wells: 1\n",
      "megan brohm: 1\n"
     ]
    }
   ],
   "source": [
    "extract_frequent_words_for_sentiment (df_orig, text_sentiment_map, 'Neutral', llm, prompt_template)"
   ]
  },
  {
   "cell_type": "markdown",
   "id": "f2905cee-9f29-495d-8c63-f55881b6bda0",
   "metadata": {},
   "source": [
    "# Other Stuff"
   ]
  },
  {
   "cell_type": "code",
   "execution_count": 24,
   "id": "e3249e58-704e-48bb-932e-e9a05e94d4bf",
   "metadata": {},
   "outputs": [],
   "source": [
    "# Media Type"
   ]
  },
  {
   "cell_type": "code",
   "execution_count": 25,
   "id": "cf54aeb3-ecd4-4ef4-870e-840951bb6535",
   "metadata": {},
   "outputs": [],
   "source": [
    "#df['media_id'].value_counts()"
   ]
  }
 ],
 "metadata": {
  "kernelspec": {
   "display_name": "Python [conda env:py3_ml] *",
   "language": "python",
   "name": "conda-env-py3_ml-py"
  },
  "language_info": {
   "codemirror_mode": {
    "name": "ipython",
    "version": 3
   },
   "file_extension": ".py",
   "mimetype": "text/x-python",
   "name": "python",
   "nbconvert_exporter": "python",
   "pygments_lexer": "ipython3",
   "version": "3.12.9"
  }
 },
 "nbformat": 4,
 "nbformat_minor": 5
}
