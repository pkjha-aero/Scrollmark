{
 "cells": [
  {
   "cell_type": "markdown",
   "id": "e22a38d8-43e8-4e6b-acbf-ffa8999f6065",
   "metadata": {},
   "source": [
    "# Import Modules"
   ]
  },
  {
   "cell_type": "code",
   "execution_count": 1,
   "id": "6e60ca04-b2fa-4b25-8867-c61752413053",
   "metadata": {},
   "outputs": [],
   "source": [
    "import os\n",
    "import pandas as pd\n",
    "import matplotlib.pyplot as plt\n",
    "import openpyxl\n",
    "import datetime\n",
    "from dateutil import parser"
   ]
  },
  {
   "cell_type": "code",
   "execution_count": 2,
   "id": "37b7f91f-93b7-4801-bcae-0e14e9f6d3fd",
   "metadata": {},
   "outputs": [],
   "source": [
    "OPENAI_API_KEY = \"\"\n",
    "os.environ[\"OPENAI_API_KEY\"] = OPENAI_API_KEY"
   ]
  },
  {
   "cell_type": "code",
   "execution_count": 3,
   "id": "31427600-dad5-4497-9c2a-85ace783f6e8",
   "metadata": {},
   "outputs": [],
   "source": [
    "from langchain.chat_models import ChatOpenAI\n",
    "from langchain.prompts import PromptTemplate\n",
    "from langchain.schema import HumanMessage"
   ]
  },
  {
   "cell_type": "markdown",
   "id": "277b6d3d-f24a-476e-82fa-a82466c68fbb",
   "metadata": {},
   "source": [
    "# User-Defined Functions"
   ]
  },
  {
   "cell_type": "code",
   "execution_count": 4,
   "id": "c03d5810-4f0d-4374-98d4-e4634f42c6c9",
   "metadata": {},
   "outputs": [],
   "source": [
    "# Read Raw data downloded in excel format\n",
    "def read_raw_data (excel_file_name: str) -> pd.DataFrame:\n",
    "    try:\n",
    "        df = pd.read_excel(\n",
    "            excel_file,\n",
    "            parse_dates=[0],           # Parse first column as datetime\n",
    "            dtype={1: 'Int64'},        # Safely handle large integers\n",
    "            engine='openpyxl',         # Use openpyxl for .xlsx files    \n",
    "        )\n",
    "        #print(df.head(5))\n",
    "    \n",
    "    except Exception as e:\n",
    "        print(\"Error reading Excel file:\", e)\n",
    "\n",
    "    return df"
   ]
  },
  {
   "cell_type": "code",
   "execution_count": 5,
   "id": "74562bc4-5394-41cd-a22c-17b36a5adf07",
   "metadata": {},
   "outputs": [],
   "source": [
    "# Function to get sentiment using LangChain\n",
    "def get_sentiment_with_langchain (text: str) -> str:\n",
    "    prompt = prompt_template.format(text=text)\n",
    "    try:\n",
    "        response = llm([HumanMessage(content=prompt)])\n",
    "        return response.content.strip()\n",
    "    except Exception as e:\n",
    "        print(\"Error processing:\", text, \"\\n\", e)\n",
    "        return \"Error\""
   ]
  },
  {
   "cell_type": "code",
   "execution_count": 6,
   "id": "8de613d9-21ff-401d-b91c-e3705dc1f180",
   "metadata": {},
   "outputs": [],
   "source": [
    "def compute_sentiments (df: pd.DataFrame, text_sentiment_map: dict) -> pd.DataFrame:\n",
    "    for text_key in text_sentiment_map.keys():\n",
    "        print(text_key, text_sentiment_map[text_key])\n",
    "        df[text_sentiment_map[text_key]] = df[text_key].apply(get_sentiment_with_langchain)\n",
    "\n",
    "    return df"
   ]
  },
  {
   "cell_type": "code",
   "execution_count": 7,
   "id": "a9fa24ec-2276-408f-99cf-ec1fde99a8f4",
   "metadata": {},
   "outputs": [],
   "source": [
    "def visualize_sentiments (df: pd.DataFrame, text_sentiment_map: dict) -> None:\n",
    "    num_text_types = len(text_sentiment_map.keys())\n",
    "    fig, axes = plt.subplots(1, num_text_types, figsize=(12, 6))\n",
    "    for sent_type_count, text_key in enumerate(text_sentiment_map.keys()):\n",
    "        #print(text_key, text_sentiment_map[text_key])\n",
    "        counts_sent = df[text_sentiment_map[text_key]].value_counts()\n",
    "        axes[sent_type_count].pie(counts_sent, labels=counts_sent.index, autopct=\"%1.1f%%\", startangle=90)\n",
    "        axes[sent_type_count].set_title(text_key)\n",
    "    \n",
    "    plt.suptitle(\"Sentiment Distributions Across Text Columns\", fontsize=16, fontweight='bold')\n",
    "    plt.tight_layout()\n",
    "    plt.show()"
   ]
  },
  {
   "cell_type": "code",
   "execution_count": 8,
   "id": "06477045-f4e1-41b7-a5b5-ff134a00e37b",
   "metadata": {},
   "outputs": [],
   "source": [
    "def reduce_df_to_a_sentiment (df_orig: pd.DataFrame, text_sentiment_map: dict, desired_sentiment: str) -> pd.DataFrame:\n",
    "    df = df_orig.copy()\n",
    "    for text_key in text_sentiment_map.keys():\n",
    "        #print(text_key, text_sentiment_map[text_key])\n",
    "        df = df [df[text_sentiment_map[text_key]] == desired_sentiment]\n",
    "\n",
    "    return df\n",
    "    "
   ]
  },
  {
   "cell_type": "code",
   "execution_count": 9,
   "id": "e743c837-40a3-4e81-b186-e2a7b25b4c80",
   "metadata": {},
   "outputs": [],
   "source": [
    "# Function to extract keywords and counts using OpenAI\n",
    "def extract_keywords_with_counts(llm, prompt_template, text: str):\n",
    "    prompt = prompt_template.format(text=text[:4000])  # truncate if needed\n",
    "    response = llm([HumanMessage(content=prompt)])\n",
    "    \n",
    "    # Parse response into dict\n",
    "    result = {}\n",
    "    for line in response.content.strip().split(\"\\n\"):\n",
    "        if \":\" in line:\n",
    "            try:\n",
    "                key, val = line.split(\":\")\n",
    "                result[key.strip()] = int(val.strip())\n",
    "            except ValueError:\n",
    "                continue\n",
    "    return result"
   ]
  },
  {
   "cell_type": "code",
   "execution_count": 10,
   "id": "b869aa06-21f1-43b2-ac07-892dfa1652e4",
   "metadata": {},
   "outputs": [],
   "source": [
    "def extract_frequent_words_for_sentiment (df_orig, text_sentiment_map, desired_sentiment, llm, prompt_template, freq_words_collection):\n",
    "    # Reduce the data frame so that each text column has the same sentiment type\n",
    "    #df = reduce_df_to_a_sentiment (df_orig, text_sentiment_map, desired_sentiment)\n",
    "    \n",
    "    for sent_type_count, text_key in enumerate(text_sentiment_map.keys()):\n",
    "        #print(text_key, text_sentiment_map[text_key])\n",
    "        df = df_orig [df_orig[text_sentiment_map[text_key]] == desired_sentiment]\n",
    "        col = text_key\n",
    "        text = \" \".join(df[col].dropna().astype(str).tolist())\n",
    "        result = extract_keywords_with_counts(llm, prompt_template, text)\n",
    "        \n",
    "        freq_words_collection[text_key][desired_sentiment] = result\n",
    "    \n",
    "        print(f\"\\nTop 10 keywords from column '{col}' that represent '{desired_sentiment}' sentiments:\")\n",
    "        for k, v in result.items():\n",
    "            print(f\"{k}: {v}\")\n",
    "\n",
    "    return freq_words_collection"
   ]
  },
  {
   "cell_type": "code",
   "execution_count": 32,
   "id": "a6867119-3c37-4c91-b900-fb92259c6015",
   "metadata": {},
   "outputs": [],
   "source": [
    "def visualize_frequent_words_for_sentiment (freq_words_collection):\n",
    "    \n",
    "    sentiment_colors = {\n",
    "    'Positive': 'green',\n",
    "    'Neutral': 'gray',\n",
    "    'Negative': 'red'\n",
    "    }\n",
    "\n",
    "    # Create subplots\n",
    "    fig, axes = plt.subplots(nrows=1, ncols=2, figsize=(16, 6), sharey=False)\n",
    "    fig.suptitle(\"Top Keywords by Sentiment for Each Text Source\", fontsize=16, fontweight='bold')\n",
    "    \n",
    "    for ax, (source, sentiments) in zip(axes, freq_words_collection.items()):\n",
    "        ax.set_title(f\"{source.replace('_', ' ').title()}\")\n",
    "        all_words = []\n",
    "        all_counts = []\n",
    "        all_colors = []\n",
    "    \n",
    "        for sentiment, words in sentiments.items():\n",
    "            for word, count in words.items():\n",
    "                all_words.append(word)\n",
    "                all_counts.append(count)\n",
    "                all_colors.append(sentiment_colors.get(sentiment, 'black'))\n",
    "    \n",
    "        # Plot histogram\n",
    "        ax.barh(all_words, all_counts, color=all_colors)\n",
    "        ax.invert_yaxis()  # Highest count at top\n",
    "        ax.set_xlabel(\"Frequency\")\n",
    "        ax.set_ylabel(\"Words\")\n",
    "        ax.grid(axis='x', linestyle='--', alpha=0.7)\n",
    "    \n",
    "    plt.tight_layout(rect=[0, 0, 1, 0.95])\n",
    "    plt.show()"
   ]
  },
  {
   "cell_type": "markdown",
   "id": "d6706de5-9b52-45b9-8f19-036d3a9111cf",
   "metadata": {},
   "source": [
    "# Read the Raw Data"
   ]
  },
  {
   "cell_type": "code",
   "execution_count": 11,
   "id": "e8da6b71-c62f-49ac-973b-ff00e58cd9c2",
   "metadata": {},
   "outputs": [
    {
     "data": {
      "text/html": [
       "<div>\n",
       "<style scoped>\n",
       "    .dataframe tbody tr th:only-of-type {\n",
       "        vertical-align: middle;\n",
       "    }\n",
       "\n",
       "    .dataframe tbody tr th {\n",
       "        vertical-align: top;\n",
       "    }\n",
       "\n",
       "    .dataframe thead th {\n",
       "        text-align: right;\n",
       "    }\n",
       "</style>\n",
       "<table border=\"1\" class=\"dataframe\">\n",
       "  <thead>\n",
       "    <tr style=\"text-align: right;\">\n",
       "      <th></th>\n",
       "      <th>timestamp</th>\n",
       "      <th>media_id</th>\n",
       "      <th>media_caption</th>\n",
       "      <th>comment_text</th>\n",
       "    </tr>\n",
       "  </thead>\n",
       "  <tbody>\n",
       "    <tr>\n",
       "      <th>0</th>\n",
       "      <td>2025-03-01 00:13:57.153000+00:00</td>\n",
       "      <td>1090986906404998</td>\n",
       "      <td>Soft skin, soft life 🩷🌸🫧 get your hands on thi...</td>\n",
       "      <td>I bet this is good</td>\n",
       "    </tr>\n",
       "    <tr>\n",
       "      <th>1</th>\n",
       "      <td>2025-03-01 00:23:06.879000+00:00</td>\n",
       "      <td>17950254656929862</td>\n",
       "      <td>Why use one scrub when you can use them all at...</td>\n",
       "      <td>i know this smells so good</td>\n",
       "    </tr>\n",
       "    <tr>\n",
       "      <th>2</th>\n",
       "      <td>2025-03-01 00:04:05.094000+00:00</td>\n",
       "      <td>1090109319826090</td>\n",
       "      <td>Morning routine with Tree Hut 🍊🫧 Now available...</td>\n",
       "      <td>Love it</td>\n",
       "    </tr>\n",
       "    <tr>\n",
       "      <th>3</th>\n",
       "      <td>2025-03-01 00:41:59.467000+00:00</td>\n",
       "      <td>1098364052333950</td>\n",
       "      <td>Why use one scrub when you can use them all at...</td>\n",
       "      <td>Please carry these in Canada! I miss them so m...</td>\n",
       "    </tr>\n",
       "    <tr>\n",
       "      <th>4</th>\n",
       "      <td>2025-03-01 02:21:29.715000+00:00</td>\n",
       "      <td>1083943630442659</td>\n",
       "      <td>Vanilla Serum-Infused Hand Wash: A sweet escap...</td>\n",
       "      <td>I love it ..✌️</td>\n",
       "    </tr>\n",
       "  </tbody>\n",
       "</table>\n",
       "</div>"
      ],
      "text/plain": [
       "                          timestamp           media_id  \\\n",
       "0  2025-03-01 00:13:57.153000+00:00   1090986906404998   \n",
       "1  2025-03-01 00:23:06.879000+00:00  17950254656929862   \n",
       "2  2025-03-01 00:04:05.094000+00:00   1090109319826090   \n",
       "3  2025-03-01 00:41:59.467000+00:00   1098364052333950   \n",
       "4  2025-03-01 02:21:29.715000+00:00   1083943630442659   \n",
       "\n",
       "                                       media_caption  \\\n",
       "0  Soft skin, soft life 🩷🌸🫧 get your hands on thi...   \n",
       "1  Why use one scrub when you can use them all at...   \n",
       "2  Morning routine with Tree Hut 🍊🫧 Now available...   \n",
       "3  Why use one scrub when you can use them all at...   \n",
       "4  Vanilla Serum-Infused Hand Wash: A sweet escap...   \n",
       "\n",
       "                                        comment_text  \n",
       "0                                 I bet this is good  \n",
       "1                         i know this smells so good  \n",
       "2                                            Love it  \n",
       "3  Please carry these in Canada! I miss them so m...  \n",
       "4                                     I love it ..✌️  "
      ]
     },
     "execution_count": 11,
     "metadata": {},
     "output_type": "execute_result"
    }
   ],
   "source": [
    "excel_file = 'engagements.xlsx'\n",
    "df = read_raw_data(excel_file)\n",
    "df.head(5)"
   ]
  },
  {
   "cell_type": "markdown",
   "id": "6255af09-5aa5-477a-815c-5a6720cefb96",
   "metadata": {},
   "source": [
    "# Proceed with a subset for Testing"
   ]
  },
  {
   "cell_type": "code",
   "execution_count": 12,
   "id": "82dd9f22-f73e-487b-9dc1-3036d695346a",
   "metadata": {},
   "outputs": [],
   "source": [
    "##\n",
    "#n_rows = len(df)\n",
    "df = df.iloc[::500]"
   ]
  },
  {
   "cell_type": "code",
   "execution_count": 13,
   "id": "7227b579-a5ad-44ec-95ce-0c6ecd23ba6d",
   "metadata": {},
   "outputs": [
    {
     "data": {
      "text/plain": [
       "36"
      ]
     },
     "execution_count": 13,
     "metadata": {},
     "output_type": "execute_result"
    }
   ],
   "source": [
    "len(df)"
   ]
  },
  {
   "cell_type": "markdown",
   "id": "cefcb856-e436-4d2a-914b-ea96c6f39287",
   "metadata": {},
   "source": [
    "# Define LLM"
   ]
  },
  {
   "cell_type": "code",
   "execution_count": 14,
   "id": "d83bad12-6f20-4346-8151-e96716f2ac2e",
   "metadata": {},
   "outputs": [
    {
     "name": "stderr",
     "output_type": "stream",
     "text": [
      "/tmp/ipykernel_1348363/1554941544.py:1: LangChainDeprecationWarning: The class `ChatOpenAI` was deprecated in LangChain 0.0.10 and will be removed in 1.0. An updated version of the class exists in the :class:`~langchain-openai package and should be used instead. To use it run `pip install -U :class:`~langchain-openai` and import as `from :class:`~langchain_openai import ChatOpenAI``.\n",
      "  llm = ChatOpenAI(model=\"gpt-3.5-turbo-0125\", temperature=0.0)\n"
     ]
    }
   ],
   "source": [
    "llm = ChatOpenAI(model=\"gpt-3.5-turbo-0125\", temperature=0.0)"
   ]
  },
  {
   "cell_type": "markdown",
   "id": "6dfbc4ac-df82-4338-85b7-42cb56d37835",
   "metadata": {},
   "source": [
    "# Analyze Sentiments"
   ]
  },
  {
   "cell_type": "markdown",
   "id": "7a58ecdc-3f2c-4bf3-a419-91493e2885a8",
   "metadata": {},
   "source": [
    "### Define a prompt template"
   ]
  },
  {
   "cell_type": "code",
   "execution_count": 15,
   "id": "4f7ac689-9e35-4cad-bdfa-b9b68ba8543d",
   "metadata": {},
   "outputs": [],
   "source": [
    "prompt_template = PromptTemplate.from_template(\n",
    "    \"Classify the sentiment of the following text as Positive, Negative, or Neutral:\\n\\n{text}\\n\\nSentiment:\"\n",
    ")"
   ]
  },
  {
   "cell_type": "markdown",
   "id": "7564e99b-e8d5-42e3-a621-3f276b81e218",
   "metadata": {},
   "source": [
    "### Define a map between column names with text and the corresponding sentiment"
   ]
  },
  {
   "cell_type": "code",
   "execution_count": 16,
   "id": "e58ad7bd-92e6-4d37-a0e3-c5f9756c1bcc",
   "metadata": {},
   "outputs": [],
   "source": [
    "text_sentiment_map = {\n",
    "    'media_caption': 'sentiment_media_caption',\n",
    "    'comment_text': 'sentiment_comment_text',\n",
    "    #'comment_text2': 'sentiment_comment_text2'\n",
    "}"
   ]
  },
  {
   "cell_type": "code",
   "execution_count": 17,
   "id": "05535bd9-f1ae-4ee7-baa8-d899ab66b3ee",
   "metadata": {},
   "outputs": [
    {
     "data": {
      "text/plain": [
       "{'media_caption': 'sentiment_media_caption',\n",
       " 'comment_text': 'sentiment_comment_text'}"
      ]
     },
     "execution_count": 17,
     "metadata": {},
     "output_type": "execute_result"
    }
   ],
   "source": [
    "text_sentiment_map"
   ]
  },
  {
   "cell_type": "code",
   "execution_count": 18,
   "id": "0c6949b2-84ec-4b58-b4ce-ab74d755bbb1",
   "metadata": {},
   "outputs": [],
   "source": [
    "#df['media_caption'][0]"
   ]
  },
  {
   "cell_type": "code",
   "execution_count": 19,
   "id": "fc7140b7-ebbc-4f6f-8e98-2f447d214439",
   "metadata": {},
   "outputs": [],
   "source": [
    "#get_sentiment_with_langchain(df['media_caption'][0])"
   ]
  },
  {
   "cell_type": "markdown",
   "id": "1f5f877c-f2c4-4fe7-95f8-69813c8883b0",
   "metadata": {},
   "source": [
    "### Compute Sentiments"
   ]
  },
  {
   "cell_type": "code",
   "execution_count": 20,
   "id": "7261fda0-884b-42d6-8392-3fbfddea4d74",
   "metadata": {},
   "outputs": [
    {
     "name": "stdout",
     "output_type": "stream",
     "text": [
      "media_caption sentiment_media_caption\n"
     ]
    },
    {
     "name": "stderr",
     "output_type": "stream",
     "text": [
      "/tmp/ipykernel_1348363/4098399969.py:5: LangChainDeprecationWarning: The method `BaseChatModel.__call__` was deprecated in langchain-core 0.1.7 and will be removed in 1.0. Use :meth:`~invoke` instead.\n",
      "  response = llm([HumanMessage(content=prompt)])\n"
     ]
    },
    {
     "name": "stdout",
     "output_type": "stream",
     "text": [
      "comment_text sentiment_comment_text\n"
     ]
    }
   ],
   "source": [
    "df = compute_sentiments (df, text_sentiment_map)\n",
    "df_orig = df.copy()"
   ]
  },
  {
   "cell_type": "code",
   "execution_count": 21,
   "id": "2eee02a7-f8e2-422e-b560-2344bb276343",
   "metadata": {},
   "outputs": [
    {
     "data": {
      "text/html": [
       "<div>\n",
       "<style scoped>\n",
       "    .dataframe tbody tr th:only-of-type {\n",
       "        vertical-align: middle;\n",
       "    }\n",
       "\n",
       "    .dataframe tbody tr th {\n",
       "        vertical-align: top;\n",
       "    }\n",
       "\n",
       "    .dataframe thead th {\n",
       "        text-align: right;\n",
       "    }\n",
       "</style>\n",
       "<table border=\"1\" class=\"dataframe\">\n",
       "  <thead>\n",
       "    <tr style=\"text-align: right;\">\n",
       "      <th></th>\n",
       "      <th>timestamp</th>\n",
       "      <th>media_id</th>\n",
       "      <th>media_caption</th>\n",
       "      <th>comment_text</th>\n",
       "      <th>sentiment_media_caption</th>\n",
       "      <th>sentiment_comment_text</th>\n",
       "    </tr>\n",
       "  </thead>\n",
       "  <tbody>\n",
       "    <tr>\n",
       "      <th>0</th>\n",
       "      <td>2025-03-01 00:13:57.153000+00:00</td>\n",
       "      <td>1090986906404998</td>\n",
       "      <td>Soft skin, soft life 🩷🌸🫧 get your hands on thi...</td>\n",
       "      <td>I bet this is good</td>\n",
       "      <td>Positive</td>\n",
       "      <td>Positive</td>\n",
       "    </tr>\n",
       "    <tr>\n",
       "      <th>500</th>\n",
       "      <td>2025-03-06 07:05:10.771000+00:00</td>\n",
       "      <td>1098549352315420</td>\n",
       "      <td>Run to get my fave for a year-round summer ski...</td>\n",
       "      <td>Bought</td>\n",
       "      <td>Positive</td>\n",
       "      <td>Neutral</td>\n",
       "    </tr>\n",
       "    <tr>\n",
       "      <th>1000</th>\n",
       "      <td>2025-03-10 20:27:33.787000+00:00</td>\n",
       "      <td>18059074886050845</td>\n",
       "      <td>✨🌴SPRING BREAK GIVEAWAY 🌴✨\\n\\nWith spring brea...</td>\n",
       "      <td>@andenewman76</td>\n",
       "      <td>Positive</td>\n",
       "      <td>Neutral</td>\n",
       "    </tr>\n",
       "    <tr>\n",
       "      <th>1500</th>\n",
       "      <td>2025-03-11 11:45:09.476000+00:00</td>\n",
       "      <td>18059074886050845</td>\n",
       "      <td>✨🌴SPRING BREAK GIVEAWAY 🌴✨\\n\\nWith spring brea...</td>\n",
       "      <td>@rxmo0402</td>\n",
       "      <td>Positive</td>\n",
       "      <td>Neutral</td>\n",
       "    </tr>\n",
       "    <tr>\n",
       "      <th>2000</th>\n",
       "      <td>2025-03-13 19:32:42.850000+00:00</td>\n",
       "      <td>18059074886050845</td>\n",
       "      <td>✨🌴SPRING BREAK GIVEAWAY 🌴✨\\n\\nWith spring brea...</td>\n",
       "      <td>@angellov3_03</td>\n",
       "      <td>Positive</td>\n",
       "      <td>Neutral</td>\n",
       "    </tr>\n",
       "    <tr>\n",
       "      <th>2500</th>\n",
       "      <td>2025-03-17 21:57:44.086000+00:00</td>\n",
       "      <td>18051403259269591</td>\n",
       "      <td>Ready to wake up to soft, hydrated lips? 💋✨ \\n...</td>\n",
       "      <td>@oreolaura_</td>\n",
       "      <td>Positive</td>\n",
       "      <td>Neutral</td>\n",
       "    </tr>\n",
       "    <tr>\n",
       "      <th>3000</th>\n",
       "      <td>2025-03-21 15:22:22.374000+00:00</td>\n",
       "      <td>18036343751267796</td>\n",
       "      <td>APPLICATIONS ARE NOW CLOSED! 🚨 \\nThank you to ...</td>\n",
       "      <td>Treehut PR</td>\n",
       "      <td>Positive</td>\n",
       "      <td>Neutral</td>\n",
       "    </tr>\n",
       "    <tr>\n",
       "      <th>3500</th>\n",
       "      <td>2025-03-21 16:18:20.293000+00:00</td>\n",
       "      <td>18036343751267796</td>\n",
       "      <td>APPLICATIONS ARE NOW CLOSED! 🚨 \\nThank you to ...</td>\n",
       "      <td>trent pr!!</td>\n",
       "      <td>Positive</td>\n",
       "      <td>Positive</td>\n",
       "    </tr>\n",
       "    <tr>\n",
       "      <th>4000</th>\n",
       "      <td>2025-03-21 17:47:44.278000+00:00</td>\n",
       "      <td>18036343751267796</td>\n",
       "      <td>APPLICATIONS ARE NOW CLOSED! 🚨 \\nThank you to ...</td>\n",
       "      <td>Treehut PR!</td>\n",
       "      <td>Positive</td>\n",
       "      <td>Positive</td>\n",
       "    </tr>\n",
       "    <tr>\n",
       "      <th>4500</th>\n",
       "      <td>2025-03-21 21:05:11.605000+00:00</td>\n",
       "      <td>18036343751267796</td>\n",
       "      <td>APPLICATIONS ARE NOW CLOSED! 🚨 \\nThank you to ...</td>\n",
       "      <td>Treehut PR 😍</td>\n",
       "      <td>Positive</td>\n",
       "      <td>Positive</td>\n",
       "    </tr>\n",
       "    <tr>\n",
       "      <th>5000</th>\n",
       "      <td>2025-03-22 07:08:49.794000+00:00</td>\n",
       "      <td>18036343751267796</td>\n",
       "      <td>APPLICATIONS ARE NOW CLOSED! 🚨 \\nThank you to ...</td>\n",
       "      <td>Treehut PR 😍💕</td>\n",
       "      <td>Positive</td>\n",
       "      <td>Positive</td>\n",
       "    </tr>\n",
       "    <tr>\n",
       "      <th>5500</th>\n",
       "      <td>2025-03-22 21:56:22.018000+00:00</td>\n",
       "      <td>18036343751267796</td>\n",
       "      <td>APPLICATIONS ARE NOW CLOSED! 🚨 \\nThank you to ...</td>\n",
       "      <td>Treehut PR</td>\n",
       "      <td>Positive</td>\n",
       "      <td>Neutral</td>\n",
       "    </tr>\n",
       "    <tr>\n",
       "      <th>6000</th>\n",
       "      <td>2025-03-24 17:46:22.679000+00:00</td>\n",
       "      <td>18036343751267796</td>\n",
       "      <td>APPLICATIONS ARE NOW CLOSED! 🚨 \\nThank you to ...</td>\n",
       "      <td>TreeHut PR</td>\n",
       "      <td>Positive</td>\n",
       "      <td>Neutral</td>\n",
       "    </tr>\n",
       "    <tr>\n",
       "      <th>6500</th>\n",
       "      <td>2025-03-24 22:28:50.677000+00:00</td>\n",
       "      <td>18047477606343932</td>\n",
       "      <td>💦GIVEAWAY TIME💦\\n\\nIs your skin craving hydrat...</td>\n",
       "      <td>@melwill22  love this</td>\n",
       "      <td>Positive</td>\n",
       "      <td>Positive</td>\n",
       "    </tr>\n",
       "    <tr>\n",
       "      <th>7000</th>\n",
       "      <td>2025-03-27 04:31:37.203000+00:00</td>\n",
       "      <td>18047477606343932</td>\n",
       "      <td>💦GIVEAWAY TIME💦\\n\\nIs your skin craving hydrat...</td>\n",
       "      <td>@lexie.770</td>\n",
       "      <td>Positive</td>\n",
       "      <td>Neutral</td>\n",
       "    </tr>\n",
       "    <tr>\n",
       "      <th>7500</th>\n",
       "      <td>2025-03-31 20:53:23.822000+00:00</td>\n",
       "      <td>18038401034240788</td>\n",
       "      <td>✨Time for a Giveaway✨\\n\\nA spritz a day keeps ...</td>\n",
       "      <td>@_kayaker</td>\n",
       "      <td>Positive</td>\n",
       "      <td>Neutral</td>\n",
       "    </tr>\n",
       "    <tr>\n",
       "      <th>8000</th>\n",
       "      <td>2025-04-01 20:42:54.262000+00:00</td>\n",
       "      <td>18036343751267796</td>\n",
       "      <td>APPLICATIONS ARE NOW CLOSED! 🚨 \\nThank you to ...</td>\n",
       "      <td>TreeHut PR🩷🩷</td>\n",
       "      <td>Positive</td>\n",
       "      <td>Neutral</td>\n",
       "    </tr>\n",
       "    <tr>\n",
       "      <th>8500</th>\n",
       "      <td>2025-04-02 13:50:41.080000+00:00</td>\n",
       "      <td>1125861352917553</td>\n",
       "      <td>You know what we can’t relate to? Dry skin. ✋❌...</td>\n",
       "      <td>Don’t see it on website</td>\n",
       "      <td>Positive</td>\n",
       "      <td>Negative</td>\n",
       "    </tr>\n",
       "    <tr>\n",
       "      <th>9000</th>\n",
       "      <td>2025-03-03 04:24:33.362000+00:00</td>\n",
       "      <td>18021315083459733</td>\n",
       "      <td>Orange you glad it’s giveaway time?! 🍊✨\\n\\nTha...</td>\n",
       "      <td>@keniaquisi</td>\n",
       "      <td>Positive</td>\n",
       "      <td>Neutral</td>\n",
       "    </tr>\n",
       "    <tr>\n",
       "      <th>9500</th>\n",
       "      <td>2025-03-08 01:09:02.718000+00:00</td>\n",
       "      <td>1090861253084230</td>\n",
       "      <td>*slams laptop shut* ✌️🚿🌴 click the link to get...</td>\n",
       "      <td>Good stuff</td>\n",
       "      <td>Positive</td>\n",
       "      <td>Positive</td>\n",
       "    </tr>\n",
       "    <tr>\n",
       "      <th>10000</th>\n",
       "      <td>2025-03-10 21:15:51.607000+00:00</td>\n",
       "      <td>18059074886050845</td>\n",
       "      <td>✨🌴SPRING BREAK GIVEAWAY 🌴✨\\n\\nWith spring brea...</td>\n",
       "      <td>@love._rissa 😍</td>\n",
       "      <td>Positive</td>\n",
       "      <td>Positive</td>\n",
       "    </tr>\n",
       "    <tr>\n",
       "      <th>10500</th>\n",
       "      <td>2025-03-11 13:32:14.854000+00:00</td>\n",
       "      <td>1103389275164761</td>\n",
       "      <td>Plant-based self-care for nourishing hydration.</td>\n",
       "      <td>Michelle R Tolbert why I just got my bag out t...</td>\n",
       "      <td>Positive</td>\n",
       "      <td>Neutral</td>\n",
       "    </tr>\n",
       "    <tr>\n",
       "      <th>11000</th>\n",
       "      <td>2025-03-14 13:48:24.876000+00:00</td>\n",
       "      <td>17963593577750403</td>\n",
       "      <td>Exfoliate, renew, and hydrate with our Coco Co...</td>\n",
       "      <td>❤️❤️❤️❤️</td>\n",
       "      <td>Positive</td>\n",
       "      <td>Positive</td>\n",
       "    </tr>\n",
       "    <tr>\n",
       "      <th>11500</th>\n",
       "      <td>2025-03-17 23:18:42.743000+00:00</td>\n",
       "      <td>18051403259269591</td>\n",
       "      <td>Ready to wake up to soft, hydrated lips? 💋✨ \\n...</td>\n",
       "      <td>can yall PLEASE make everything in the strawbe...</td>\n",
       "      <td>Positive</td>\n",
       "      <td>Positive</td>\n",
       "    </tr>\n",
       "    <tr>\n",
       "      <th>12000</th>\n",
       "      <td>2025-03-21 15:24:08.801000+00:00</td>\n",
       "      <td>18036343751267796</td>\n",
       "      <td>APPLICATIONS ARE NOW CLOSED! 🚨 \\nThank you to ...</td>\n",
       "      <td>Treehut PR</td>\n",
       "      <td>Positive</td>\n",
       "      <td>Neutral</td>\n",
       "    </tr>\n",
       "    <tr>\n",
       "      <th>12500</th>\n",
       "      <td>2025-03-21 16:18:58.599000+00:00</td>\n",
       "      <td>18036343751267796</td>\n",
       "      <td>APPLICATIONS ARE NOW CLOSED! 🚨 \\nThank you to ...</td>\n",
       "      <td>Treehut PR</td>\n",
       "      <td>Positive</td>\n",
       "      <td>Neutral</td>\n",
       "    </tr>\n",
       "    <tr>\n",
       "      <th>13000</th>\n",
       "      <td>2025-03-21 18:05:05.202000+00:00</td>\n",
       "      <td>18036343751267796</td>\n",
       "      <td>APPLICATIONS ARE NOW CLOSED! 🚨 \\nThank you to ...</td>\n",
       "      <td>😍😍😍</td>\n",
       "      <td>Positive</td>\n",
       "      <td>Positive</td>\n",
       "    </tr>\n",
       "    <tr>\n",
       "      <th>13500</th>\n",
       "      <td>2025-03-21 20:51:28.918000+00:00</td>\n",
       "      <td>18036343751267796</td>\n",
       "      <td>APPLICATIONS ARE NOW CLOSED! 🚨 \\nThank you to ...</td>\n",
       "      <td>TREEHUT PR!!🎀💕</td>\n",
       "      <td>Positive</td>\n",
       "      <td>Positive</td>\n",
       "    </tr>\n",
       "    <tr>\n",
       "      <th>14000</th>\n",
       "      <td>2025-03-22 14:32:05.760000+00:00</td>\n",
       "      <td>18036343751267796</td>\n",
       "      <td>APPLICATIONS ARE NOW CLOSED! 🚨 \\nThank you to ...</td>\n",
       "      <td>TreeHut PR</td>\n",
       "      <td>Positive</td>\n",
       "      <td>Neutral</td>\n",
       "    </tr>\n",
       "    <tr>\n",
       "      <th>14500</th>\n",
       "      <td>2025-03-22 23:35:46.207000+00:00</td>\n",
       "      <td>18036343751267796</td>\n",
       "      <td>APPLICATIONS ARE NOW CLOSED! 🚨 \\nThank you to ...</td>\n",
       "      <td>TreeHut PR</td>\n",
       "      <td>Positive</td>\n",
       "      <td>Neutral</td>\n",
       "    </tr>\n",
       "    <tr>\n",
       "      <th>15000</th>\n",
       "      <td>2025-03-24 19:10:35.218000+00:00</td>\n",
       "      <td>18047477606343932</td>\n",
       "      <td>💦GIVEAWAY TIME💦\\n\\nIs your skin craving hydrat...</td>\n",
       "      <td>@vernice_herrod</td>\n",
       "      <td>Positive</td>\n",
       "      <td>Neutral</td>\n",
       "    </tr>\n",
       "    <tr>\n",
       "      <th>15500</th>\n",
       "      <td>2025-03-25 01:32:50.779000+00:00</td>\n",
       "      <td>1096741449162877</td>\n",
       "      <td>Plant-based self-care for nourishing hydration...</td>\n",
       "      <td>I want this in Dewy Daisy! 🌼</td>\n",
       "      <td>Positive</td>\n",
       "      <td>Positive</td>\n",
       "    </tr>\n",
       "    <tr>\n",
       "      <th>16000</th>\n",
       "      <td>2025-03-27 15:40:11.116000+00:00</td>\n",
       "      <td>18047477606343932</td>\n",
       "      <td>💦GIVEAWAY TIME💦\\n\\nIs your skin craving hydrat...</td>\n",
       "      <td>@kimearnest89</td>\n",
       "      <td>Positive</td>\n",
       "      <td>Neutral</td>\n",
       "    </tr>\n",
       "    <tr>\n",
       "      <th>16500</th>\n",
       "      <td>2025-03-31 22:12:35.945000+00:00</td>\n",
       "      <td>18038401034240788</td>\n",
       "      <td>✨Time for a Giveaway✨\\n\\nA spritz a day keeps ...</td>\n",
       "      <td>@keyonnarobles</td>\n",
       "      <td>Positive</td>\n",
       "      <td>Neutral</td>\n",
       "    </tr>\n",
       "    <tr>\n",
       "      <th>17000</th>\n",
       "      <td>2025-04-01 21:07:19.725000+00:00</td>\n",
       "      <td>18056231456512954</td>\n",
       "      <td>You know what we can’t relate to? Dry skin. ✋❌...</td>\n",
       "      <td>I hope this is not able food joke</td>\n",
       "      <td>Positive</td>\n",
       "      <td>Negative</td>\n",
       "    </tr>\n",
       "    <tr>\n",
       "      <th>17500</th>\n",
       "      <td>2025-04-02 14:30:44.916000+00:00</td>\n",
       "      <td>1125861369584218</td>\n",
       "      <td>that's that me espresso</td>\n",
       "      <td>Alaina Remmus ik😍saw it last night</td>\n",
       "      <td>Neutral</td>\n",
       "      <td>Positive</td>\n",
       "    </tr>\n",
       "  </tbody>\n",
       "</table>\n",
       "</div>"
      ],
      "text/plain": [
       "                              timestamp           media_id  \\\n",
       "0      2025-03-01 00:13:57.153000+00:00   1090986906404998   \n",
       "500    2025-03-06 07:05:10.771000+00:00   1098549352315420   \n",
       "1000   2025-03-10 20:27:33.787000+00:00  18059074886050845   \n",
       "1500   2025-03-11 11:45:09.476000+00:00  18059074886050845   \n",
       "2000   2025-03-13 19:32:42.850000+00:00  18059074886050845   \n",
       "2500   2025-03-17 21:57:44.086000+00:00  18051403259269591   \n",
       "3000   2025-03-21 15:22:22.374000+00:00  18036343751267796   \n",
       "3500   2025-03-21 16:18:20.293000+00:00  18036343751267796   \n",
       "4000   2025-03-21 17:47:44.278000+00:00  18036343751267796   \n",
       "4500   2025-03-21 21:05:11.605000+00:00  18036343751267796   \n",
       "5000   2025-03-22 07:08:49.794000+00:00  18036343751267796   \n",
       "5500   2025-03-22 21:56:22.018000+00:00  18036343751267796   \n",
       "6000   2025-03-24 17:46:22.679000+00:00  18036343751267796   \n",
       "6500   2025-03-24 22:28:50.677000+00:00  18047477606343932   \n",
       "7000   2025-03-27 04:31:37.203000+00:00  18047477606343932   \n",
       "7500   2025-03-31 20:53:23.822000+00:00  18038401034240788   \n",
       "8000   2025-04-01 20:42:54.262000+00:00  18036343751267796   \n",
       "8500   2025-04-02 13:50:41.080000+00:00   1125861352917553   \n",
       "9000   2025-03-03 04:24:33.362000+00:00  18021315083459733   \n",
       "9500   2025-03-08 01:09:02.718000+00:00   1090861253084230   \n",
       "10000  2025-03-10 21:15:51.607000+00:00  18059074886050845   \n",
       "10500  2025-03-11 13:32:14.854000+00:00   1103389275164761   \n",
       "11000  2025-03-14 13:48:24.876000+00:00  17963593577750403   \n",
       "11500  2025-03-17 23:18:42.743000+00:00  18051403259269591   \n",
       "12000  2025-03-21 15:24:08.801000+00:00  18036343751267796   \n",
       "12500  2025-03-21 16:18:58.599000+00:00  18036343751267796   \n",
       "13000  2025-03-21 18:05:05.202000+00:00  18036343751267796   \n",
       "13500  2025-03-21 20:51:28.918000+00:00  18036343751267796   \n",
       "14000  2025-03-22 14:32:05.760000+00:00  18036343751267796   \n",
       "14500  2025-03-22 23:35:46.207000+00:00  18036343751267796   \n",
       "15000  2025-03-24 19:10:35.218000+00:00  18047477606343932   \n",
       "15500  2025-03-25 01:32:50.779000+00:00   1096741449162877   \n",
       "16000  2025-03-27 15:40:11.116000+00:00  18047477606343932   \n",
       "16500  2025-03-31 22:12:35.945000+00:00  18038401034240788   \n",
       "17000  2025-04-01 21:07:19.725000+00:00  18056231456512954   \n",
       "17500  2025-04-02 14:30:44.916000+00:00   1125861369584218   \n",
       "\n",
       "                                           media_caption  \\\n",
       "0      Soft skin, soft life 🩷🌸🫧 get your hands on thi...   \n",
       "500    Run to get my fave for a year-round summer ski...   \n",
       "1000   ✨🌴SPRING BREAK GIVEAWAY 🌴✨\\n\\nWith spring brea...   \n",
       "1500   ✨🌴SPRING BREAK GIVEAWAY 🌴✨\\n\\nWith spring brea...   \n",
       "2000   ✨🌴SPRING BREAK GIVEAWAY 🌴✨\\n\\nWith spring brea...   \n",
       "2500   Ready to wake up to soft, hydrated lips? 💋✨ \\n...   \n",
       "3000   APPLICATIONS ARE NOW CLOSED! 🚨 \\nThank you to ...   \n",
       "3500   APPLICATIONS ARE NOW CLOSED! 🚨 \\nThank you to ...   \n",
       "4000   APPLICATIONS ARE NOW CLOSED! 🚨 \\nThank you to ...   \n",
       "4500   APPLICATIONS ARE NOW CLOSED! 🚨 \\nThank you to ...   \n",
       "5000   APPLICATIONS ARE NOW CLOSED! 🚨 \\nThank you to ...   \n",
       "5500   APPLICATIONS ARE NOW CLOSED! 🚨 \\nThank you to ...   \n",
       "6000   APPLICATIONS ARE NOW CLOSED! 🚨 \\nThank you to ...   \n",
       "6500   💦GIVEAWAY TIME💦\\n\\nIs your skin craving hydrat...   \n",
       "7000   💦GIVEAWAY TIME💦\\n\\nIs your skin craving hydrat...   \n",
       "7500   ✨Time for a Giveaway✨\\n\\nA spritz a day keeps ...   \n",
       "8000   APPLICATIONS ARE NOW CLOSED! 🚨 \\nThank you to ...   \n",
       "8500   You know what we can’t relate to? Dry skin. ✋❌...   \n",
       "9000   Orange you glad it’s giveaway time?! 🍊✨\\n\\nTha...   \n",
       "9500   *slams laptop shut* ✌️🚿🌴 click the link to get...   \n",
       "10000  ✨🌴SPRING BREAK GIVEAWAY 🌴✨\\n\\nWith spring brea...   \n",
       "10500    Plant-based self-care for nourishing hydration.   \n",
       "11000  Exfoliate, renew, and hydrate with our Coco Co...   \n",
       "11500  Ready to wake up to soft, hydrated lips? 💋✨ \\n...   \n",
       "12000  APPLICATIONS ARE NOW CLOSED! 🚨 \\nThank you to ...   \n",
       "12500  APPLICATIONS ARE NOW CLOSED! 🚨 \\nThank you to ...   \n",
       "13000  APPLICATIONS ARE NOW CLOSED! 🚨 \\nThank you to ...   \n",
       "13500  APPLICATIONS ARE NOW CLOSED! 🚨 \\nThank you to ...   \n",
       "14000  APPLICATIONS ARE NOW CLOSED! 🚨 \\nThank you to ...   \n",
       "14500  APPLICATIONS ARE NOW CLOSED! 🚨 \\nThank you to ...   \n",
       "15000  💦GIVEAWAY TIME💦\\n\\nIs your skin craving hydrat...   \n",
       "15500  Plant-based self-care for nourishing hydration...   \n",
       "16000  💦GIVEAWAY TIME💦\\n\\nIs your skin craving hydrat...   \n",
       "16500  ✨Time for a Giveaway✨\\n\\nA spritz a day keeps ...   \n",
       "17000  You know what we can’t relate to? Dry skin. ✋❌...   \n",
       "17500                            that's that me espresso   \n",
       "\n",
       "                                            comment_text  \\\n",
       "0                                     I bet this is good   \n",
       "500                                               Bought   \n",
       "1000                                       @andenewman76   \n",
       "1500                                           @rxmo0402   \n",
       "2000                                       @angellov3_03   \n",
       "2500                                         @oreolaura_   \n",
       "3000                                          Treehut PR   \n",
       "3500                                          trent pr!!   \n",
       "4000                                         Treehut PR!   \n",
       "4500                                        Treehut PR 😍   \n",
       "5000                                       Treehut PR 😍💕   \n",
       "5500                                          Treehut PR   \n",
       "6000                                          TreeHut PR   \n",
       "6500                               @melwill22  love this   \n",
       "7000                                          @lexie.770   \n",
       "7500                                           @_kayaker   \n",
       "8000                                        TreeHut PR🩷🩷   \n",
       "8500                             Don’t see it on website   \n",
       "9000                                         @keniaquisi   \n",
       "9500                                          Good stuff   \n",
       "10000                                     @love._rissa 😍   \n",
       "10500  Michelle R Tolbert why I just got my bag out t...   \n",
       "11000                                           ❤️❤️❤️❤️   \n",
       "11500  can yall PLEASE make everything in the strawbe...   \n",
       "12000                                         Treehut PR   \n",
       "12500                                         Treehut PR   \n",
       "13000                                                😍😍😍   \n",
       "13500                                     TREEHUT PR!!🎀💕   \n",
       "14000                                         TreeHut PR   \n",
       "14500                                         TreeHut PR   \n",
       "15000                                    @vernice_herrod   \n",
       "15500                       I want this in Dewy Daisy! 🌼   \n",
       "16000                                      @kimearnest89   \n",
       "16500                                     @keyonnarobles   \n",
       "17000                  I hope this is not able food joke   \n",
       "17500                 Alaina Remmus ik😍saw it last night   \n",
       "\n",
       "      sentiment_media_caption sentiment_comment_text  \n",
       "0                    Positive               Positive  \n",
       "500                  Positive                Neutral  \n",
       "1000                 Positive                Neutral  \n",
       "1500                 Positive                Neutral  \n",
       "2000                 Positive                Neutral  \n",
       "2500                 Positive                Neutral  \n",
       "3000                 Positive                Neutral  \n",
       "3500                 Positive               Positive  \n",
       "4000                 Positive               Positive  \n",
       "4500                 Positive               Positive  \n",
       "5000                 Positive               Positive  \n",
       "5500                 Positive                Neutral  \n",
       "6000                 Positive                Neutral  \n",
       "6500                 Positive               Positive  \n",
       "7000                 Positive                Neutral  \n",
       "7500                 Positive                Neutral  \n",
       "8000                 Positive                Neutral  \n",
       "8500                 Positive               Negative  \n",
       "9000                 Positive                Neutral  \n",
       "9500                 Positive               Positive  \n",
       "10000                Positive               Positive  \n",
       "10500                Positive                Neutral  \n",
       "11000                Positive               Positive  \n",
       "11500                Positive               Positive  \n",
       "12000                Positive                Neutral  \n",
       "12500                Positive                Neutral  \n",
       "13000                Positive               Positive  \n",
       "13500                Positive               Positive  \n",
       "14000                Positive                Neutral  \n",
       "14500                Positive                Neutral  \n",
       "15000                Positive                Neutral  \n",
       "15500                Positive               Positive  \n",
       "16000                Positive                Neutral  \n",
       "16500                Positive                Neutral  \n",
       "17000                Positive               Negative  \n",
       "17500                 Neutral               Positive  "
      ]
     },
     "execution_count": 21,
     "metadata": {},
     "output_type": "execute_result"
    }
   ],
   "source": [
    "df"
   ]
  },
  {
   "cell_type": "markdown",
   "id": "e2c85c55-8c10-4d79-8b45-84a279cad943",
   "metadata": {},
   "source": [
    "### Visualize Sentiments"
   ]
  },
  {
   "cell_type": "code",
   "execution_count": 22,
   "id": "b95ae28e-91ed-42d6-ab4d-e79dd6c56740",
   "metadata": {},
   "outputs": [
    {
     "data": {
      "image/png": "[encoded data removed]",
      "text/plain": [
       "<Figure size 1200x600 with 2 Axes>"
      ]
     },
     "metadata": {},
     "output_type": "display_data"
    }
   ],
   "source": [
    "visualize_sentiments (df, text_sentiment_map)"
   ]
  },
  {
   "cell_type": "markdown",
   "id": "fee92862-41c6-4151-aef5-4bb9d8403bc4",
   "metadata": {},
   "source": [
    "# Obtain frequent words for each type of sentiment"
   ]
  },
  {
   "cell_type": "markdown",
   "id": "318e324a-ccad-437d-8a85-e874b847dc15",
   "metadata": {},
   "source": [
    "### Define a prompt template"
   ]
  },
  {
   "cell_type": "code",
   "execution_count": 23,
   "id": "6fa9f725-6d2f-4324-82f7-04563b319f67",
   "metadata": {},
   "outputs": [],
   "source": [
    "prompt_template = PromptTemplate.from_template(\n",
    "    \"\"\"Extract the top 10 most important keywords or phrases from the following text, and show how often each one appears. \n",
    "Return them in the format: keyword: count, one per line. Only include meaningful content words, not stopwords or punctuation.\n",
    "\n",
    "Text:\n",
    "{text}\n",
    "\"\"\"\n",
    ")"
   ]
  },
  {
   "cell_type": "code",
   "execution_count": 24,
   "id": "3d4c8ac8-c863-4e23-9c5c-2898081665c6",
   "metadata": {},
   "outputs": [],
   "source": [
    "freq_words_collection = dict()\n",
    "for text_key in text_sentiment_map.keys():\n",
    "    #print(text_key, text_sentiment_map[text_key])\n",
    "    freq_words_collection[text_key] = dict()\n",
    "        "
   ]
  },
  {
   "cell_type": "code",
   "execution_count": 25,
   "id": "0ed4a882-c966-414e-81ea-cbde8234785c",
   "metadata": {},
   "outputs": [],
   "source": [
    "freq_words_collection"
   ]
  },
  {
   "cell_type": "markdown",
   "id": "91ba4f7f-ed50-4efd-9b94-b5d70c97fc7c",
   "metadata": {},
   "source": [
    "### Call function"
   ]
  },
  {
   "cell_type": "code",
   "execution_count": 26,
   "id": "1b5a192f-ee62-418b-b2c2-2bed6e56b376",
   "metadata": {},
   "outputs": [
    {
     "name": "stdout",
     "output_type": "stream",
     "text": [
      "\n",
      "Top 10 keywords from column 'media_caption' that represent 'Positive' sentiments:\n",
      "spring break: 6\n",
      "giveaway: 6\n",
      "treehut: 6\n",
      "selfcare: 4\n",
      "skin: 3\n",
      "smooth: 3\n",
      "glowing: 3\n",
      "winners: 3\n",
      "shop: 3\n",
      "essential: 3\n",
      "\n",
      "Top 10 keywords from column 'comment_text' that represent 'Positive' sentiments:\n",
      "treehut: 4\n",
      "pr: 3\n",
      "love: 2\n",
      "good: 1\n",
      "stuff: 1\n",
      "strawberry: 1\n",
      "scent: 1\n",
      "dewy daisy: 1\n",
      "alaina remmus: 1\n"
     ]
    }
   ],
   "source": [
    "freq_words_collection = extract_frequent_words_for_sentiment (df_orig, text_sentiment_map, 'Positive', llm, prompt_template, freq_words_collection)"
   ]
  },
  {
   "cell_type": "code",
   "execution_count": 27,
   "id": "e6b96a04-8709-4772-9c4f-10b6ae27fbb8",
   "metadata": {},
   "outputs": [
    {
     "name": "stdout",
     "output_type": "stream",
     "text": [
      "\n",
      "Top 10 keywords from column 'media_caption' that represent 'Negative' sentiments:\n",
      "\n",
      "Top 10 keywords from column 'comment_text' that represent 'Negative' sentiments:\n",
      "website: 1\n",
      "hope: 1\n",
      "food: 1\n",
      "joke: 1\n"
     ]
    }
   ],
   "source": [
    "freq_words_collection = extract_frequent_words_for_sentiment (df_orig, text_sentiment_map, 'Negative', llm, prompt_template, freq_words_collection)"
   ]
  },
  {
   "cell_type": "code",
   "execution_count": 28,
   "id": "3694f845-df02-4cc4-abab-50e85cb3a115",
   "metadata": {},
   "outputs": [
    {
     "name": "stdout",
     "output_type": "stream",
     "text": [
      "\n",
      "Top 10 keywords from column 'media_caption' that represent 'Neutral' sentiments:\n",
      "espresso: 1\n",
      "\n",
      "Top 10 keywords from column 'comment_text' that represent 'Neutral' sentiments:\n",
      "Treehut: 10\n",
      "PR: 7\n",
      "@andenewman76: 1\n",
      "@rxmo0402: 1\n",
      "@angellov3_03: 1\n",
      "@oreolaura_: 1\n",
      "@lexie.770: 1\n",
      "@_kayaker: 1\n",
      "@keniaquisi: 1\n",
      "Michelle: 1\n"
     ]
    }
   ],
   "source": [
    "freq_words_collection = extract_frequent_words_for_sentiment (df_orig, text_sentiment_map, 'Neutral', llm, prompt_template, freq_words_collection)"
   ]
  },
  {
   "cell_type": "markdown",
   "id": "ec5e23b6-8d44-4b11-b6f9-db842105f1e6",
   "metadata": {},
   "source": [
    "### Visualize"
   ]
  },
  {
   "cell_type": "code",
   "execution_count": 33,
   "id": "68059551-6701-4f37-9ff0-b68d899a7be2",
   "metadata": {},
   "outputs": [
    {
     "data": {
      "image/png": "[encoded data removed]",
      "text/plain": [
       "<Figure size 1600x600 with 2 Axes>"
      ]
     },
     "metadata": {},
     "output_type": "display_data"
    }
   ],
   "source": [
    "visualize_frequent_words_for_sentiment (freq_words_collection)"
   ]
  },
  {
   "cell_type": "code",
   "execution_count": null,
   "id": "9900ff4f-37a8-4078-82a3-d6d9c2fd5c4d",
   "metadata": {},
   "outputs": [],
   "source": []
  }
 ],
 "metadata": {
  "kernelspec": {
   "display_name": "Python [conda env:py3_ml] *",
   "language": "python",
   "name": "conda-env-py3_ml-py"
  },
  "language_info": {
   "codemirror_mode": {
    "name": "ipython",
    "version": 3
   },
   "file_extension": ".py",
   "mimetype": "text/x-python",
   "name": "python",
   "nbconvert_exporter": "python",
   "pygments_lexer": "ipython3",
   "version": "3.12.9"
  }
 },
 "nbformat": 4,
 "nbformat_minor": 5
}
